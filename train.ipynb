{
 "cells": [
  {
   "cell_type": "code",
   "execution_count": null,
   "metadata": {},
   "outputs": [],
   "source": []
  },
  {
   "cell_type": "code",
   "execution_count": 1,
   "metadata": {},
   "outputs": [
    {
     "name": "stdout",
     "output_type": "stream",
     "text": [
      "Using cuda device\n",
      "Wrapping the env with a `Monitor` wrapper\n",
      "Wrapping the env in a DummyVecEnv.\n",
      "Logging to ./runs/DDPG_2\n"
     ]
    },
    {
     "data": {
      "application/vnd.jupyter.widget-view+json": {
       "model_id": "72c94587e40741c8b16446559bf4ad09",
       "version_major": 2,
       "version_minor": 0
      },
      "text/plain": [
       "Output()"
      ]
     },
     "metadata": {},
     "output_type": "display_data"
    },
    {
     "name": "stdout",
     "output_type": "stream",
     "text": [
      "---------------------------------\n",
      "| rollout/           |          |\n",
      "|    ep_len_mean     | 38       |\n",
      "|    ep_rew_mean     | -168     |\n",
      "| time/              |          |\n",
      "|    episodes        | 5        |\n",
      "|    fps             | 91       |\n",
      "|    time_elapsed    | 2        |\n",
      "|    total_timesteps | 190      |\n",
      "| train/             |          |\n",
      "|    actor_loss      | 5.02     |\n",
      "|    critic_loss     | 5.92     |\n",
      "|    learning_rate   | 0.001    |\n",
      "|    n_updates       | 171      |\n",
      "---------------------------------\n"
     ]
    },
    {
     "name": "stdout",
     "output_type": "stream",
     "text": [
      "---------------------------------\n",
      "| rollout/           |          |\n",
      "|    ep_len_mean     | 28.1     |\n",
      "|    ep_rew_mean     | -108     |\n",
      "| time/              |          |\n",
      "|    episodes        | 10       |\n",
      "|    fps             | 93       |\n",
      "|    time_elapsed    | 3        |\n",
      "|    total_timesteps | 281      |\n",
      "| train/             |          |\n",
      "|    actor_loss      | 6.44     |\n",
      "|    critic_loss     | 4.45     |\n",
      "|    learning_rate   | 0.001    |\n",
      "|    n_updates       | 262      |\n",
      "---------------------------------\n"
     ]
    },
    {
     "name": "stdout",
     "output_type": "stream",
     "text": [
      "---------------------------------\n",
      "| rollout/           |          |\n",
      "|    ep_len_mean     | 25.6     |\n",
      "|    ep_rew_mean     | -94.3    |\n",
      "| time/              |          |\n",
      "|    episodes        | 15       |\n",
      "|    fps             | 94       |\n",
      "|    time_elapsed    | 4        |\n",
      "|    total_timesteps | 384      |\n",
      "| train/             |          |\n",
      "|    actor_loss      | 7.53     |\n",
      "|    critic_loss     | 6.63     |\n",
      "|    learning_rate   | 0.001    |\n",
      "|    n_updates       | 365      |\n",
      "---------------------------------\n"
     ]
    },
    {
     "name": "stdout",
     "output_type": "stream",
     "text": [
      "---------------------------------\n",
      "| rollout/           |          |\n",
      "|    ep_len_mean     | 23.9     |\n",
      "|    ep_rew_mean     | -89.7    |\n",
      "| time/              |          |\n",
      "|    episodes        | 20       |\n",
      "|    fps             | 95       |\n",
      "|    time_elapsed    | 5        |\n",
      "|    total_timesteps | 479      |\n",
      "| train/             |          |\n",
      "|    actor_loss      | 9.26     |\n",
      "|    critic_loss     | 7.39     |\n",
      "|    learning_rate   | 0.001    |\n",
      "|    n_updates       | 459      |\n",
      "---------------------------------\n"
     ]
    },
    {
     "name": "stdout",
     "output_type": "stream",
     "text": [
      "---------------------------------\n",
      "| rollout/           |          |\n",
      "|    ep_len_mean     | 23.2     |\n",
      "|    ep_rew_mean     | -89.5    |\n",
      "| time/              |          |\n",
      "|    episodes        | 25       |\n",
      "|    fps             | 96       |\n",
      "|    time_elapsed    | 6        |\n",
      "|    total_timesteps | 580      |\n",
      "| train/             |          |\n",
      "|    actor_loss      | 10.7     |\n",
      "|    critic_loss     | 8.16     |\n",
      "|    learning_rate   | 0.001    |\n",
      "|    n_updates       | 561      |\n",
      "---------------------------------\n"
     ]
    },
    {
     "name": "stdout",
     "output_type": "stream",
     "text": [
      "---------------------------------\n",
      "| rollout/           |          |\n",
      "|    ep_len_mean     | 22.9     |\n",
      "|    ep_rew_mean     | -87.4    |\n",
      "| time/              |          |\n",
      "|    episodes        | 30       |\n",
      "|    fps             | 96       |\n",
      "|    time_elapsed    | 7        |\n",
      "|    total_timesteps | 687      |\n",
      "| train/             |          |\n",
      "|    actor_loss      | 12.5     |\n",
      "|    critic_loss     | 10.4     |\n",
      "|    learning_rate   | 0.001    |\n",
      "|    n_updates       | 668      |\n",
      "---------------------------------\n"
     ]
    },
    {
     "name": "stdout",
     "output_type": "stream",
     "text": [
      "---------------------------------\n",
      "| rollout/           |          |\n",
      "|    ep_len_mean     | 22.6     |\n",
      "|    ep_rew_mean     | -83.8    |\n",
      "| time/              |          |\n",
      "|    episodes        | 35       |\n",
      "|    fps             | 97       |\n",
      "|    time_elapsed    | 8        |\n",
      "|    total_timesteps | 791      |\n",
      "| train/             |          |\n",
      "|    actor_loss      | 13.4     |\n",
      "|    critic_loss     | 8.87     |\n",
      "|    learning_rate   | 0.001    |\n",
      "|    n_updates       | 769      |\n",
      "---------------------------------\n"
     ]
    },
    {
     "name": "stdout",
     "output_type": "stream",
     "text": [
      "---------------------------------\n",
      "| rollout/           |          |\n",
      "|    ep_len_mean     | 22.2     |\n",
      "|    ep_rew_mean     | -81.1    |\n",
      "| time/              |          |\n",
      "|    episodes        | 40       |\n",
      "|    fps             | 97       |\n",
      "|    time_elapsed    | 9        |\n",
      "|    total_timesteps | 890      |\n",
      "| train/             |          |\n",
      "|    actor_loss      | 15.4     |\n",
      "|    critic_loss     | 10       |\n",
      "|    learning_rate   | 0.001    |\n",
      "|    n_updates       | 871      |\n",
      "---------------------------------\n"
     ]
    },
    {
     "name": "stdout",
     "output_type": "stream",
     "text": [
      "---------------------------------\n",
      "| rollout/           |          |\n",
      "|    ep_len_mean     | 22.1     |\n",
      "|    ep_rew_mean     | -80.5    |\n",
      "| time/              |          |\n",
      "|    episodes        | 45       |\n",
      "|    fps             | 97       |\n",
      "|    time_elapsed    | 10       |\n",
      "|    total_timesteps | 993      |\n",
      "| train/             |          |\n",
      "|    actor_loss      | 17       |\n",
      "|    critic_loss     | 13.4     |\n",
      "|    learning_rate   | 0.001    |\n",
      "|    n_updates       | 972      |\n",
      "---------------------------------\n"
     ]
    },
    {
     "name": "stdout",
     "output_type": "stream",
     "text": [
      "---------------------------------\n",
      "| rollout/           |          |\n",
      "|    ep_len_mean     | 21.9     |\n",
      "|    ep_rew_mean     | -80.9    |\n",
      "| time/              |          |\n",
      "|    episodes        | 50       |\n",
      "|    fps             | 97       |\n",
      "|    time_elapsed    | 11       |\n",
      "|    total_timesteps | 1093     |\n",
      "| train/             |          |\n",
      "|    actor_loss      | 18.8     |\n",
      "|    critic_loss     | 11.9     |\n",
      "|    learning_rate   | 0.001    |\n",
      "|    n_updates       | 1074     |\n",
      "---------------------------------\n"
     ]
    },
    {
     "name": "stdout",
     "output_type": "stream",
     "text": [
      "---------------------------------\n",
      "| rollout/           |          |\n",
      "|    ep_len_mean     | 21.6     |\n",
      "|    ep_rew_mean     | -78.1    |\n",
      "| time/              |          |\n",
      "|    episodes        | 55       |\n",
      "|    fps             | 97       |\n",
      "|    time_elapsed    | 12       |\n",
      "|    total_timesteps | 1190     |\n",
      "| train/             |          |\n",
      "|    actor_loss      | 19       |\n",
      "|    critic_loss     | 13.5     |\n",
      "|    learning_rate   | 0.001    |\n",
      "|    n_updates       | 1172     |\n",
      "---------------------------------\n"
     ]
    },
    {
     "name": "stdout",
     "output_type": "stream",
     "text": [
      "---------------------------------\n",
      "| rollout/           |          |\n",
      "|    ep_len_mean     | 21.6     |\n",
      "|    ep_rew_mean     | -79.3    |\n",
      "| time/              |          |\n",
      "|    episodes        | 60       |\n",
      "|    fps             | 98       |\n",
      "|    time_elapsed    | 13       |\n",
      "|    total_timesteps | 1294     |\n",
      "| train/             |          |\n",
      "|    actor_loss      | 21.5     |\n",
      "|    critic_loss     | 15.1     |\n",
      "|    learning_rate   | 0.001    |\n",
      "|    n_updates       | 1271     |\n",
      "---------------------------------\n"
     ]
    },
    {
     "name": "stdout",
     "output_type": "stream",
     "text": [
      "---------------------------------\n",
      "| rollout/           |          |\n",
      "|    ep_len_mean     | 21.5     |\n",
      "|    ep_rew_mean     | -79.2    |\n",
      "| time/              |          |\n",
      "|    episodes        | 65       |\n",
      "|    fps             | 98       |\n",
      "|    time_elapsed    | 14       |\n",
      "|    total_timesteps | 1395     |\n",
      "| train/             |          |\n",
      "|    actor_loss      | 22.8     |\n",
      "|    critic_loss     | 13.3     |\n",
      "|    learning_rate   | 0.001    |\n",
      "|    n_updates       | 1377     |\n",
      "---------------------------------\n"
     ]
    },
    {
     "name": "stdout",
     "output_type": "stream",
     "text": [
      "---------------------------------\n",
      "| rollout/           |          |\n",
      "|    ep_len_mean     | 21.1     |\n",
      "|    ep_rew_mean     | -77.1    |\n",
      "| time/              |          |\n",
      "|    episodes        | 70       |\n",
      "|    fps             | 98       |\n",
      "|    time_elapsed    | 15       |\n",
      "|    total_timesteps | 1478     |\n",
      "| train/             |          |\n",
      "|    actor_loss      | 23.6     |\n",
      "|    critic_loss     | 13.9     |\n",
      "|    learning_rate   | 0.001    |\n",
      "|    n_updates       | 1459     |\n",
      "---------------------------------\n"
     ]
    },
    {
     "name": "stdout",
     "output_type": "stream",
     "text": [
      "---------------------------------\n",
      "| rollout/           |          |\n",
      "|    ep_len_mean     | 21.1     |\n",
      "|    ep_rew_mean     | -76.1    |\n",
      "| time/              |          |\n",
      "|    episodes        | 75       |\n",
      "|    fps             | 98       |\n",
      "|    time_elapsed    | 16       |\n",
      "|    total_timesteps | 1579     |\n",
      "| train/             |          |\n",
      "|    actor_loss      | 25.3     |\n",
      "|    critic_loss     | 17.9     |\n",
      "|    learning_rate   | 0.001    |\n",
      "|    n_updates       | 1559     |\n",
      "---------------------------------\n"
     ]
    },
    {
     "name": "stdout",
     "output_type": "stream",
     "text": [
      "---------------------------------\n",
      "| rollout/           |          |\n",
      "|    ep_len_mean     | 21       |\n",
      "|    ep_rew_mean     | -75.6    |\n",
      "| time/              |          |\n",
      "|    episodes        | 80       |\n",
      "|    fps             | 98       |\n",
      "|    time_elapsed    | 17       |\n",
      "|    total_timesteps | 1679     |\n",
      "| train/             |          |\n",
      "|    actor_loss      | 26.8     |\n",
      "|    critic_loss     | 16.9     |\n",
      "|    learning_rate   | 0.001    |\n",
      "|    n_updates       | 1663     |\n",
      "---------------------------------\n"
     ]
    },
    {
     "name": "stdout",
     "output_type": "stream",
     "text": [
      "---------------------------------\n",
      "| rollout/           |          |\n",
      "|    ep_len_mean     | 20.9     |\n",
      "|    ep_rew_mean     | -74.9    |\n",
      "| time/              |          |\n",
      "|    episodes        | 85       |\n",
      "|    fps             | 98       |\n",
      "|    time_elapsed    | 17       |\n",
      "|    total_timesteps | 1778     |\n",
      "| train/             |          |\n",
      "|    actor_loss      | 28       |\n",
      "|    critic_loss     | 20.1     |\n",
      "|    learning_rate   | 0.001    |\n",
      "|    n_updates       | 1759     |\n",
      "---------------------------------\n"
     ]
    },
    {
     "name": "stdout",
     "output_type": "stream",
     "text": [
      "---------------------------------\n",
      "| rollout/           |          |\n",
      "|    ep_len_mean     | 20.8     |\n",
      "|    ep_rew_mean     | -72.7    |\n",
      "| time/              |          |\n",
      "|    episodes        | 90       |\n",
      "|    fps             | 98       |\n",
      "|    time_elapsed    | 18       |\n",
      "|    total_timesteps | 1876     |\n",
      "| train/             |          |\n",
      "|    actor_loss      | 29.2     |\n",
      "|    critic_loss     | 16.6     |\n",
      "|    learning_rate   | 0.001    |\n",
      "|    n_updates       | 1857     |\n",
      "---------------------------------\n"
     ]
    },
    {
     "name": "stdout",
     "output_type": "stream",
     "text": [
      "---------------------------------\n",
      "| rollout/           |          |\n",
      "|    ep_len_mean     | 20.8     |\n",
      "|    ep_rew_mean     | -72.3    |\n",
      "| time/              |          |\n",
      "|    episodes        | 95       |\n",
      "|    fps             | 98       |\n",
      "|    time_elapsed    | 19       |\n",
      "|    total_timesteps | 1977     |\n",
      "| train/             |          |\n",
      "|    actor_loss      | 30.4     |\n",
      "|    critic_loss     | 20.8     |\n",
      "|    learning_rate   | 0.001    |\n",
      "|    n_updates       | 1956     |\n",
      "---------------------------------\n"
     ]
    },
    {
     "name": "stdout",
     "output_type": "stream",
     "text": [
      "---------------------------------\n",
      "| rollout/           |          |\n",
      "|    ep_len_mean     | 20.8     |\n",
      "|    ep_rew_mean     | -72.4    |\n",
      "| time/              |          |\n",
      "|    episodes        | 100      |\n",
      "|    fps             | 98       |\n",
      "|    time_elapsed    | 21       |\n",
      "|    total_timesteps | 2079     |\n",
      "| train/             |          |\n",
      "|    actor_loss      | 32.5     |\n",
      "|    critic_loss     | 18.4     |\n",
      "|    learning_rate   | 0.001    |\n",
      "|    n_updates       | 2056     |\n",
      "---------------------------------\n"
     ]
    },
    {
     "name": "stdout",
     "output_type": "stream",
     "text": [
      "---------------------------------\n",
      "| rollout/           |          |\n",
      "|    ep_len_mean     | 19.9     |\n",
      "|    ep_rew_mean     | -68.2    |\n",
      "| time/              |          |\n",
      "|    episodes        | 105      |\n",
      "|    fps             | 98       |\n",
      "|    time_elapsed    | 22       |\n",
      "|    total_timesteps | 2182     |\n",
      "| train/             |          |\n",
      "|    actor_loss      | 33.5     |\n",
      "|    critic_loss     | 19.9     |\n",
      "|    learning_rate   | 0.001    |\n",
      "|    n_updates       | 2161     |\n",
      "---------------------------------\n"
     ]
    },
    {
     "name": "stdout",
     "output_type": "stream",
     "text": [
      "---------------------------------\n",
      "| rollout/           |          |\n",
      "|    ep_len_mean     | 20.1     |\n",
      "|    ep_rew_mean     | -68.5    |\n",
      "| time/              |          |\n",
      "|    episodes        | 110      |\n",
      "|    fps             | 98       |\n",
      "|    time_elapsed    | 23       |\n",
      "|    total_timesteps | 2287     |\n",
      "| train/             |          |\n",
      "|    actor_loss      | 34.8     |\n",
      "|    critic_loss     | 15.1     |\n",
      "|    learning_rate   | 0.001    |\n",
      "|    n_updates       | 2263     |\n",
      "---------------------------------\n"
     ]
    },
    {
     "name": "stdout",
     "output_type": "stream",
     "text": [
      "---------------------------------\n",
      "| rollout/           |          |\n",
      "|    ep_len_mean     | 20       |\n",
      "|    ep_rew_mean     | -70      |\n",
      "| time/              |          |\n",
      "|    episodes        | 115      |\n",
      "|    fps             | 98       |\n",
      "|    time_elapsed    | 24       |\n",
      "|    total_timesteps | 2386     |\n",
      "| train/             |          |\n",
      "|    actor_loss      | 35.9     |\n",
      "|    critic_loss     | 12.4     |\n",
      "|    learning_rate   | 0.001    |\n",
      "|    n_updates       | 2366     |\n",
      "---------------------------------\n"
     ]
    },
    {
     "name": "stdout",
     "output_type": "stream",
     "text": [
      "---------------------------------\n",
      "| rollout/           |          |\n",
      "|    ep_len_mean     | 20.1     |\n",
      "|    ep_rew_mean     | -68.7    |\n",
      "| time/              |          |\n",
      "|    episodes        | 120      |\n",
      "|    fps             | 98       |\n",
      "|    time_elapsed    | 25       |\n",
      "|    total_timesteps | 2486     |\n",
      "| train/             |          |\n",
      "|    actor_loss      | 37.3     |\n",
      "|    critic_loss     | 13.9     |\n",
      "|    learning_rate   | 0.001    |\n",
      "|    n_updates       | 2467     |\n",
      "---------------------------------\n"
     ]
    },
    {
     "name": "stdout",
     "output_type": "stream",
     "text": [
      "---------------------------------\n",
      "| rollout/           |          |\n",
      "|    ep_len_mean     | 20.1     |\n",
      "|    ep_rew_mean     | -67.8    |\n",
      "| time/              |          |\n",
      "|    episodes        | 125      |\n",
      "|    fps             | 98       |\n",
      "|    time_elapsed    | 26       |\n",
      "|    total_timesteps | 2590     |\n",
      "| train/             |          |\n",
      "|    actor_loss      | 38.1     |\n",
      "|    critic_loss     | 13.8     |\n",
      "|    learning_rate   | 0.001    |\n",
      "|    n_updates       | 2568     |\n",
      "---------------------------------\n"
     ]
    },
    {
     "name": "stdout",
     "output_type": "stream",
     "text": [
      "---------------------------------\n",
      "| rollout/           |          |\n",
      "|    ep_len_mean     | 20       |\n",
      "|    ep_rew_mean     | -66.6    |\n",
      "| time/              |          |\n",
      "|    episodes        | 130      |\n",
      "|    fps             | 98       |\n",
      "|    time_elapsed    | 27       |\n",
      "|    total_timesteps | 2687     |\n",
      "| train/             |          |\n",
      "|    actor_loss      | 39.3     |\n",
      "|    critic_loss     | 11.8     |\n",
      "|    learning_rate   | 0.001    |\n",
      "|    n_updates       | 2665     |\n",
      "---------------------------------\n"
     ]
    },
    {
     "name": "stdout",
     "output_type": "stream",
     "text": [
      "---------------------------------\n",
      "| rollout/           |          |\n",
      "|    ep_len_mean     | 19.9     |\n",
      "|    ep_rew_mean     | -66.5    |\n",
      "| time/              |          |\n",
      "|    episodes        | 135      |\n",
      "|    fps             | 98       |\n",
      "|    time_elapsed    | 28       |\n",
      "|    total_timesteps | 2785     |\n",
      "| train/             |          |\n",
      "|    actor_loss      | 41       |\n",
      "|    critic_loss     | 11.8     |\n",
      "|    learning_rate   | 0.001    |\n",
      "|    n_updates       | 2762     |\n",
      "---------------------------------\n"
     ]
    },
    {
     "name": "stdout",
     "output_type": "stream",
     "text": [
      "---------------------------------\n",
      "| rollout/           |          |\n",
      "|    ep_len_mean     | 19.9     |\n",
      "|    ep_rew_mean     | -67.4    |\n",
      "| time/              |          |\n",
      "|    episodes        | 140      |\n",
      "|    fps             | 98       |\n",
      "|    time_elapsed    | 29       |\n",
      "|    total_timesteps | 2881     |\n",
      "| train/             |          |\n",
      "|    actor_loss      | 40.8     |\n",
      "|    critic_loss     | 13.8     |\n",
      "|    learning_rate   | 0.001    |\n",
      "|    n_updates       | 2862     |\n",
      "---------------------------------\n"
     ]
    },
    {
     "name": "stdout",
     "output_type": "stream",
     "text": [
      "---------------------------------\n",
      "| rollout/           |          |\n",
      "|    ep_len_mean     | 19.9     |\n",
      "|    ep_rew_mean     | -67.2    |\n",
      "| time/              |          |\n",
      "|    episodes        | 145      |\n",
      "|    fps             | 99       |\n",
      "|    time_elapsed    | 30       |\n",
      "|    total_timesteps | 2988     |\n",
      "| train/             |          |\n",
      "|    actor_loss      | 41.8     |\n",
      "|    critic_loss     | 15.9     |\n",
      "|    learning_rate   | 0.001    |\n",
      "|    n_updates       | 2967     |\n",
      "---------------------------------\n"
     ]
    },
    {
     "name": "stdout",
     "output_type": "stream",
     "text": [
      "---------------------------------\n",
      "| rollout/           |          |\n",
      "|    ep_len_mean     | 19.9     |\n",
      "|    ep_rew_mean     | -67.1    |\n",
      "| time/              |          |\n",
      "|    episodes        | 150      |\n",
      "|    fps             | 99       |\n",
      "|    time_elapsed    | 31       |\n",
      "|    total_timesteps | 3081     |\n",
      "| train/             |          |\n",
      "|    actor_loss      | 43       |\n",
      "|    critic_loss     | 12       |\n",
      "|    learning_rate   | 0.001    |\n",
      "|    n_updates       | 3063     |\n",
      "---------------------------------\n"
     ]
    },
    {
     "name": "stdout",
     "output_type": "stream",
     "text": [
      "---------------------------------\n",
      "| rollout/           |          |\n",
      "|    ep_len_mean     | 19.9     |\n",
      "|    ep_rew_mean     | -68.4    |\n",
      "| time/              |          |\n",
      "|    episodes        | 155      |\n",
      "|    fps             | 99       |\n",
      "|    time_elapsed    | 32       |\n",
      "|    total_timesteps | 3182     |\n",
      "| train/             |          |\n",
      "|    actor_loss      | 44.9     |\n",
      "|    critic_loss     | 12       |\n",
      "|    learning_rate   | 0.001    |\n",
      "|    n_updates       | 3158     |\n",
      "---------------------------------\n"
     ]
    },
    {
     "name": "stdout",
     "output_type": "stream",
     "text": [
      "---------------------------------\n",
      "| rollout/           |          |\n",
      "|    ep_len_mean     | 19.8     |\n",
      "|    ep_rew_mean     | -67.9    |\n",
      "| time/              |          |\n",
      "|    episodes        | 160      |\n",
      "|    fps             | 99       |\n",
      "|    time_elapsed    | 33       |\n",
      "|    total_timesteps | 3278     |\n",
      "| train/             |          |\n",
      "|    actor_loss      | 44.7     |\n",
      "|    critic_loss     | 12.5     |\n",
      "|    learning_rate   | 0.001    |\n",
      "|    n_updates       | 3259     |\n",
      "---------------------------------\n"
     ]
    },
    {
     "name": "stdout",
     "output_type": "stream",
     "text": [
      "---------------------------------\n",
      "| rollout/           |          |\n",
      "|    ep_len_mean     | 19.8     |\n",
      "|    ep_rew_mean     | -67.4    |\n",
      "| time/              |          |\n",
      "|    episodes        | 165      |\n",
      "|    fps             | 99       |\n",
      "|    time_elapsed    | 34       |\n",
      "|    total_timesteps | 3374     |\n",
      "| train/             |          |\n",
      "|    actor_loss      | 46.3     |\n",
      "|    critic_loss     | 12       |\n",
      "|    learning_rate   | 0.001    |\n",
      "|    n_updates       | 3358     |\n",
      "---------------------------------\n"
     ]
    },
    {
     "name": "stdout",
     "output_type": "stream",
     "text": [
      "---------------------------------\n",
      "| rollout/           |          |\n",
      "|    ep_len_mean     | 19.9     |\n",
      "|    ep_rew_mean     | -67.5    |\n",
      "| time/              |          |\n",
      "|    episodes        | 170      |\n",
      "|    fps             | 99       |\n",
      "|    time_elapsed    | 34       |\n",
      "|    total_timesteps | 3471     |\n",
      "| train/             |          |\n",
      "|    actor_loss      | 46.9     |\n",
      "|    critic_loss     | 11.4     |\n",
      "|    learning_rate   | 0.001    |\n",
      "|    n_updates       | 3453     |\n",
      "---------------------------------\n"
     ]
    },
    {
     "name": "stdout",
     "output_type": "stream",
     "text": [
      "---------------------------------\n",
      "| rollout/           |          |\n",
      "|    ep_len_mean     | 19.9     |\n",
      "|    ep_rew_mean     | -68.3    |\n",
      "| time/              |          |\n",
      "|    episodes        | 175      |\n",
      "|    fps             | 99       |\n",
      "|    time_elapsed    | 35       |\n",
      "|    total_timesteps | 3573     |\n",
      "| train/             |          |\n",
      "|    actor_loss      | 47.4     |\n",
      "|    critic_loss     | 16.3     |\n",
      "|    learning_rate   | 0.001    |\n",
      "|    n_updates       | 3553     |\n",
      "---------------------------------\n"
     ]
    },
    {
     "name": "stdout",
     "output_type": "stream",
     "text": [
      "---------------------------------\n",
      "| rollout/           |          |\n",
      "|    ep_len_mean     | 20       |\n",
      "|    ep_rew_mean     | -69.3    |\n",
      "| time/              |          |\n",
      "|    episodes        | 180      |\n",
      "|    fps             | 99       |\n",
      "|    time_elapsed    | 37       |\n",
      "|    total_timesteps | 3676     |\n",
      "| train/             |          |\n",
      "|    actor_loss      | 47.9     |\n",
      "|    critic_loss     | 16.3     |\n",
      "|    learning_rate   | 0.001    |\n",
      "|    n_updates       | 3657     |\n",
      "---------------------------------\n"
     ]
    },
    {
     "name": "stdout",
     "output_type": "stream",
     "text": [
      "---------------------------------\n",
      "| rollout/           |          |\n",
      "|    ep_len_mean     | 20       |\n",
      "|    ep_rew_mean     | -69.7    |\n",
      "| time/              |          |\n",
      "|    episodes        | 185      |\n",
      "|    fps             | 99       |\n",
      "|    time_elapsed    | 38       |\n",
      "|    total_timesteps | 3781     |\n",
      "| train/             |          |\n",
      "|    actor_loss      | 48.2     |\n",
      "|    critic_loss     | 12.4     |\n",
      "|    learning_rate   | 0.001    |\n",
      "|    n_updates       | 3758     |\n",
      "---------------------------------\n"
     ]
    },
    {
     "name": "stdout",
     "output_type": "stream",
     "text": [
      "---------------------------------\n",
      "| rollout/           |          |\n",
      "|    ep_len_mean     | 20       |\n",
      "|    ep_rew_mean     | -71.6    |\n",
      "| time/              |          |\n",
      "|    episodes        | 190      |\n",
      "|    fps             | 99       |\n",
      "|    time_elapsed    | 39       |\n",
      "|    total_timesteps | 3880     |\n",
      "| train/             |          |\n",
      "|    actor_loss      | 49.5     |\n",
      "|    critic_loss     | 13.6     |\n",
      "|    learning_rate   | 0.001    |\n",
      "|    n_updates       | 3859     |\n",
      "---------------------------------\n"
     ]
    },
    {
     "name": "stdout",
     "output_type": "stream",
     "text": [
      "---------------------------------\n",
      "| rollout/           |          |\n",
      "|    ep_len_mean     | 20.1     |\n",
      "|    ep_rew_mean     | -72.1    |\n",
      "| time/              |          |\n",
      "|    episodes        | 195      |\n",
      "|    fps             | 99       |\n",
      "|    time_elapsed    | 40       |\n",
      "|    total_timesteps | 3984     |\n",
      "| train/             |          |\n",
      "|    actor_loss      | 50.5     |\n",
      "|    critic_loss     | 11.9     |\n",
      "|    learning_rate   | 0.001    |\n",
      "|    n_updates       | 3960     |\n",
      "---------------------------------\n"
     ]
    },
    {
     "name": "stdout",
     "output_type": "stream",
     "text": [
      "---------------------------------\n",
      "| rollout/           |          |\n",
      "|    ep_len_mean     | 20       |\n",
      "|    ep_rew_mean     | -71.7    |\n",
      "| time/              |          |\n",
      "|    episodes        | 200      |\n",
      "|    fps             | 99       |\n",
      "|    time_elapsed    | 40       |\n",
      "|    total_timesteps | 4081     |\n",
      "| train/             |          |\n",
      "|    actor_loss      | 50.3     |\n",
      "|    critic_loss     | 18.4     |\n",
      "|    learning_rate   | 0.001    |\n",
      "|    n_updates       | 4060     |\n",
      "---------------------------------\n"
     ]
    },
    {
     "name": "stdout",
     "output_type": "stream",
     "text": [
      "---------------------------------\n",
      "| rollout/           |          |\n",
      "|    ep_len_mean     | 20       |\n",
      "|    ep_rew_mean     | -70.6    |\n",
      "| time/              |          |\n",
      "|    episodes        | 205      |\n",
      "|    fps             | 99       |\n",
      "|    time_elapsed    | 41       |\n",
      "|    total_timesteps | 4180     |\n",
      "| train/             |          |\n",
      "|    actor_loss      | 51       |\n",
      "|    critic_loss     | 10.8     |\n",
      "|    learning_rate   | 0.001    |\n",
      "|    n_updates       | 4161     |\n",
      "---------------------------------\n"
     ]
    },
    {
     "name": "stdout",
     "output_type": "stream",
     "text": [
      "---------------------------------\n",
      "| rollout/           |          |\n",
      "|    ep_len_mean     | 19.9     |\n",
      "|    ep_rew_mean     | -73.8    |\n",
      "| time/              |          |\n",
      "|    episodes        | 210      |\n",
      "|    fps             | 99       |\n",
      "|    time_elapsed    | 42       |\n",
      "|    total_timesteps | 4276     |\n",
      "| train/             |          |\n",
      "|    actor_loss      | 51.4     |\n",
      "|    critic_loss     | 12.6     |\n",
      "|    learning_rate   | 0.001    |\n",
      "|    n_updates       | 4257     |\n",
      "---------------------------------\n"
     ]
    },
    {
     "name": "stdout",
     "output_type": "stream",
     "text": [
      "---------------------------------\n",
      "| rollout/           |          |\n",
      "|    ep_len_mean     | 19.9     |\n",
      "|    ep_rew_mean     | -71.5    |\n",
      "| time/              |          |\n",
      "|    episodes        | 215      |\n",
      "|    fps             | 99       |\n",
      "|    time_elapsed    | 43       |\n",
      "|    total_timesteps | 4372     |\n",
      "| train/             |          |\n",
      "|    actor_loss      | 52.7     |\n",
      "|    critic_loss     | 11.3     |\n",
      "|    learning_rate   | 0.001    |\n",
      "|    n_updates       | 4358     |\n",
      "---------------------------------\n"
     ]
    },
    {
     "name": "stdout",
     "output_type": "stream",
     "text": [
      "---------------------------------\n",
      "| rollout/           |          |\n",
      "|    ep_len_mean     | 19.9     |\n",
      "|    ep_rew_mean     | -72.5    |\n",
      "| time/              |          |\n",
      "|    episodes        | 220      |\n",
      "|    fps             | 100      |\n",
      "|    time_elapsed    | 44       |\n",
      "|    total_timesteps | 4478     |\n",
      "| train/             |          |\n",
      "|    actor_loss      | 52.3     |\n",
      "|    critic_loss     | 10.1     |\n",
      "|    learning_rate   | 0.001    |\n",
      "|    n_updates       | 4457     |\n",
      "---------------------------------\n"
     ]
    },
    {
     "name": "stdout",
     "output_type": "stream",
     "text": [
      "---------------------------------\n",
      "| rollout/           |          |\n",
      "|    ep_len_mean     | 19.9     |\n",
      "|    ep_rew_mean     | -72.6    |\n",
      "| time/              |          |\n",
      "|    episodes        | 225      |\n",
      "|    fps             | 99       |\n",
      "|    time_elapsed    | 45       |\n",
      "|    total_timesteps | 4582     |\n",
      "| train/             |          |\n",
      "|    actor_loss      | 52.4     |\n",
      "|    critic_loss     | 11.2     |\n",
      "|    learning_rate   | 0.001    |\n",
      "|    n_updates       | 4562     |\n",
      "---------------------------------\n"
     ]
    },
    {
     "name": "stdout",
     "output_type": "stream",
     "text": [
      "---------------------------------\n",
      "| rollout/           |          |\n",
      "|    ep_len_mean     | 20       |\n",
      "|    ep_rew_mean     | -72.5    |\n",
      "| time/              |          |\n",
      "|    episodes        | 230      |\n",
      "|    fps             | 100      |\n",
      "|    time_elapsed    | 46       |\n",
      "|    total_timesteps | 4686     |\n",
      "| train/             |          |\n",
      "|    actor_loss      | 54       |\n",
      "|    critic_loss     | 13.5     |\n",
      "|    learning_rate   | 0.001    |\n",
      "|    n_updates       | 4664     |\n",
      "---------------------------------\n"
     ]
    },
    {
     "name": "stdout",
     "output_type": "stream",
     "text": [
      "---------------------------------\n",
      "| rollout/           |          |\n",
      "|    ep_len_mean     | 19.8     |\n",
      "|    ep_rew_mean     | -73.2    |\n",
      "| time/              |          |\n",
      "|    episodes        | 235      |\n",
      "|    fps             | 100      |\n",
      "|    time_elapsed    | 47       |\n",
      "|    total_timesteps | 4764     |\n",
      "| train/             |          |\n",
      "|    actor_loss      | 53.5     |\n",
      "|    critic_loss     | 13.7     |\n",
      "|    learning_rate   | 0.001    |\n",
      "|    n_updates       | 4742     |\n",
      "---------------------------------\n"
     ]
    },
    {
     "name": "stdout",
     "output_type": "stream",
     "text": [
      "---------------------------------\n",
      "| rollout/           |          |\n",
      "|    ep_len_mean     | 19.8     |\n",
      "|    ep_rew_mean     | -72.1    |\n",
      "| time/              |          |\n",
      "|    episodes        | 240      |\n",
      "|    fps             | 100      |\n",
      "|    time_elapsed    | 48       |\n",
      "|    total_timesteps | 4859     |\n",
      "| train/             |          |\n",
      "|    actor_loss      | 53.6     |\n",
      "|    critic_loss     | 10.7     |\n",
      "|    learning_rate   | 0.001    |\n",
      "|    n_updates       | 4839     |\n",
      "---------------------------------\n"
     ]
    },
    {
     "name": "stdout",
     "output_type": "stream",
     "text": [
      "---------------------------------\n",
      "| rollout/           |          |\n",
      "|    ep_len_mean     | 19.8     |\n",
      "|    ep_rew_mean     | -72.4    |\n",
      "| time/              |          |\n",
      "|    episodes        | 245      |\n",
      "|    fps             | 100      |\n",
      "|    time_elapsed    | 49       |\n",
      "|    total_timesteps | 4965     |\n",
      "| train/             |          |\n",
      "|    actor_loss      | 54.1     |\n",
      "|    critic_loss     | 11.5     |\n",
      "|    learning_rate   | 0.001    |\n",
      "|    n_updates       | 4945     |\n",
      "---------------------------------\n"
     ]
    },
    {
     "name": "stdout",
     "output_type": "stream",
     "text": [
      "---------------------------------\n",
      "| rollout/           |          |\n",
      "|    ep_len_mean     | 19.8     |\n",
      "|    ep_rew_mean     | -71      |\n",
      "| time/              |          |\n",
      "|    episodes        | 250      |\n",
      "|    fps             | 100      |\n",
      "|    time_elapsed    | 50       |\n",
      "|    total_timesteps | 5059     |\n",
      "| train/             |          |\n",
      "|    actor_loss      | 54.7     |\n",
      "|    critic_loss     | 11.9     |\n",
      "|    learning_rate   | 0.001    |\n",
      "|    n_updates       | 5043     |\n",
      "---------------------------------\n"
     ]
    },
    {
     "name": "stdout",
     "output_type": "stream",
     "text": [
      "---------------------------------\n",
      "| rollout/           |          |\n",
      "|    ep_len_mean     | 19.7     |\n",
      "|    ep_rew_mean     | -70.8    |\n",
      "| time/              |          |\n",
      "|    episodes        | 255      |\n",
      "|    fps             | 100      |\n",
      "|    time_elapsed    | 51       |\n",
      "|    total_timesteps | 5154     |\n",
      "| train/             |          |\n",
      "|    actor_loss      | 53.8     |\n",
      "|    critic_loss     | 12.1     |\n",
      "|    learning_rate   | 0.001    |\n",
      "|    n_updates       | 5138     |\n",
      "---------------------------------\n"
     ]
    },
    {
     "name": "stdout",
     "output_type": "stream",
     "text": [
      "---------------------------------\n",
      "| rollout/           |          |\n",
      "|    ep_len_mean     | 19.7     |\n",
      "|    ep_rew_mean     | -69.4    |\n",
      "| time/              |          |\n",
      "|    episodes        | 260      |\n",
      "|    fps             | 100      |\n",
      "|    time_elapsed    | 52       |\n",
      "|    total_timesteps | 5247     |\n",
      "| train/             |          |\n",
      "|    actor_loss      | 54.1     |\n",
      "|    critic_loss     | 12.5     |\n",
      "|    learning_rate   | 0.001    |\n",
      "|    n_updates       | 5232     |\n",
      "---------------------------------\n"
     ]
    },
    {
     "name": "stdout",
     "output_type": "stream",
     "text": [
      "---------------------------------\n",
      "| rollout/           |          |\n",
      "|    ep_len_mean     | 19.8     |\n",
      "|    ep_rew_mean     | -70.1    |\n",
      "| time/              |          |\n",
      "|    episodes        | 265      |\n",
      "|    fps             | 100      |\n",
      "|    time_elapsed    | 53       |\n",
      "|    total_timesteps | 5350     |\n",
      "| train/             |          |\n",
      "|    actor_loss      | 54.1     |\n",
      "|    critic_loss     | 12.3     |\n",
      "|    learning_rate   | 0.001    |\n",
      "|    n_updates       | 5332     |\n",
      "---------------------------------\n"
     ]
    },
    {
     "name": "stdout",
     "output_type": "stream",
     "text": [
      "---------------------------------\n",
      "| rollout/           |          |\n",
      "|    ep_len_mean     | 19.8     |\n",
      "|    ep_rew_mean     | -70.6    |\n",
      "| time/              |          |\n",
      "|    episodes        | 270      |\n",
      "|    fps             | 100      |\n",
      "|    time_elapsed    | 54       |\n",
      "|    total_timesteps | 5455     |\n",
      "| train/             |          |\n",
      "|    actor_loss      | 53.2     |\n",
      "|    critic_loss     | 11       |\n",
      "|    learning_rate   | 0.001    |\n",
      "|    n_updates       | 5432     |\n",
      "---------------------------------\n"
     ]
    },
    {
     "name": "stdout",
     "output_type": "stream",
     "text": [
      "---------------------------------\n",
      "| rollout/           |          |\n",
      "|    ep_len_mean     | 19.9     |\n",
      "|    ep_rew_mean     | -71      |\n",
      "| time/              |          |\n",
      "|    episodes        | 275      |\n",
      "|    fps             | 100      |\n",
      "|    time_elapsed    | 55       |\n",
      "|    total_timesteps | 5562     |\n",
      "| train/             |          |\n",
      "|    actor_loss      | 54.4     |\n",
      "|    critic_loss     | 12       |\n",
      "|    learning_rate   | 0.001    |\n",
      "|    n_updates       | 5538     |\n",
      "---------------------------------\n"
     ]
    },
    {
     "name": "stdout",
     "output_type": "stream",
     "text": [
      "---------------------------------\n",
      "| rollout/           |          |\n",
      "|    ep_len_mean     | 19.9     |\n",
      "|    ep_rew_mean     | -71      |\n",
      "| time/              |          |\n",
      "|    episodes        | 280      |\n",
      "|    fps             | 100      |\n",
      "|    time_elapsed    | 56       |\n",
      "|    total_timesteps | 5665     |\n",
      "| train/             |          |\n",
      "|    actor_loss      | 54.9     |\n",
      "|    critic_loss     | 12.7     |\n",
      "|    learning_rate   | 0.001    |\n",
      "|    n_updates       | 5644     |\n",
      "---------------------------------\n"
     ]
    },
    {
     "name": "stdout",
     "output_type": "stream",
     "text": [
      "---------------------------------\n",
      "| rollout/           |          |\n",
      "|    ep_len_mean     | 19.8     |\n",
      "|    ep_rew_mean     | -70.3    |\n",
      "| time/              |          |\n",
      "|    episodes        | 285      |\n",
      "|    fps             | 100      |\n",
      "|    time_elapsed    | 57       |\n",
      "|    total_timesteps | 5762     |\n",
      "| train/             |          |\n",
      "|    actor_loss      | 54.3     |\n",
      "|    critic_loss     | 12       |\n",
      "|    learning_rate   | 0.001    |\n",
      "|    n_updates       | 5742     |\n",
      "---------------------------------\n"
     ]
    },
    {
     "name": "stdout",
     "output_type": "stream",
     "text": [
      "---------------------------------\n",
      "| rollout/           |          |\n",
      "|    ep_len_mean     | 19.8     |\n",
      "|    ep_rew_mean     | -70.9    |\n",
      "| time/              |          |\n",
      "|    episodes        | 290      |\n",
      "|    fps             | 100      |\n",
      "|    time_elapsed    | 58       |\n",
      "|    total_timesteps | 5864     |\n",
      "| train/             |          |\n",
      "|    actor_loss      | 54.1     |\n",
      "|    critic_loss     | 9.1      |\n",
      "|    learning_rate   | 0.001    |\n",
      "|    n_updates       | 5846     |\n",
      "---------------------------------\n"
     ]
    },
    {
     "name": "stdout",
     "output_type": "stream",
     "text": [
      "---------------------------------\n",
      "| rollout/           |          |\n",
      "|    ep_len_mean     | 19.8     |\n",
      "|    ep_rew_mean     | -70.8    |\n",
      "| time/              |          |\n",
      "|    episodes        | 295      |\n",
      "|    fps             | 100      |\n",
      "|    time_elapsed    | 59       |\n",
      "|    total_timesteps | 5965     |\n",
      "| train/             |          |\n",
      "|    actor_loss      | 54.6     |\n",
      "|    critic_loss     | 12.8     |\n",
      "|    learning_rate   | 0.001    |\n",
      "|    n_updates       | 5943     |\n",
      "---------------------------------\n"
     ]
    },
    {
     "name": "stdout",
     "output_type": "stream",
     "text": [
      "---------------------------------\n",
      "| rollout/           |          |\n",
      "|    ep_len_mean     | 19.8     |\n",
      "|    ep_rew_mean     | -70.5    |\n",
      "| time/              |          |\n",
      "|    episodes        | 300      |\n",
      "|    fps             | 100      |\n",
      "|    time_elapsed    | 60       |\n",
      "|    total_timesteps | 6062     |\n",
      "| train/             |          |\n",
      "|    actor_loss      | 54.7     |\n",
      "|    critic_loss     | 10.9     |\n",
      "|    learning_rate   | 0.001    |\n",
      "|    n_updates       | 6041     |\n",
      "---------------------------------\n"
     ]
    },
    {
     "name": "stdout",
     "output_type": "stream",
     "text": [
      "---------------------------------\n",
      "| rollout/           |          |\n",
      "|    ep_len_mean     | 19.8     |\n",
      "|    ep_rew_mean     | -71      |\n",
      "| time/              |          |\n",
      "|    episodes        | 305      |\n",
      "|    fps             | 100      |\n",
      "|    time_elapsed    | 61       |\n",
      "|    total_timesteps | 6155     |\n",
      "| train/             |          |\n",
      "|    actor_loss      | 54.6     |\n",
      "|    critic_loss     | 11.7     |\n",
      "|    learning_rate   | 0.001    |\n",
      "|    n_updates       | 6138     |\n",
      "---------------------------------\n"
     ]
    },
    {
     "name": "stdout",
     "output_type": "stream",
     "text": [
      "---------------------------------\n",
      "| rollout/           |          |\n",
      "|    ep_len_mean     | 19.8     |\n",
      "|    ep_rew_mean     | -68.3    |\n",
      "| time/              |          |\n",
      "|    episodes        | 310      |\n",
      "|    fps             | 100      |\n",
      "|    time_elapsed    | 62       |\n",
      "|    total_timesteps | 6255     |\n",
      "| train/             |          |\n",
      "|    actor_loss      | 54.2     |\n",
      "|    critic_loss     | 11.5     |\n",
      "|    learning_rate   | 0.001    |\n",
      "|    n_updates       | 6235     |\n",
      "---------------------------------\n"
     ]
    },
    {
     "name": "stdout",
     "output_type": "stream",
     "text": [
      "---------------------------------\n",
      "| rollout/           |          |\n",
      "|    ep_len_mean     | 19.9     |\n",
      "|    ep_rew_mean     | -68.8    |\n",
      "| time/              |          |\n",
      "|    episodes        | 315      |\n",
      "|    fps             | 100      |\n",
      "|    time_elapsed    | 63       |\n",
      "|    total_timesteps | 6363     |\n",
      "| train/             |          |\n",
      "|    actor_loss      | 54.4     |\n",
      "|    critic_loss     | 15.5     |\n",
      "|    learning_rate   | 0.001    |\n",
      "|    n_updates       | 6340     |\n",
      "---------------------------------\n"
     ]
    },
    {
     "name": "stdout",
     "output_type": "stream",
     "text": [
      "---------------------------------\n",
      "| rollout/           |          |\n",
      "|    ep_len_mean     | 19.9     |\n",
      "|    ep_rew_mean     | -70.3    |\n",
      "| time/              |          |\n",
      "|    episodes        | 320      |\n",
      "|    fps             | 100      |\n",
      "|    time_elapsed    | 64       |\n",
      "|    total_timesteps | 6465     |\n",
      "| train/             |          |\n",
      "|    actor_loss      | 54.5     |\n",
      "|    critic_loss     | 10.7     |\n",
      "|    learning_rate   | 0.001    |\n",
      "|    n_updates       | 6444     |\n",
      "---------------------------------\n"
     ]
    },
    {
     "name": "stdout",
     "output_type": "stream",
     "text": [
      "---------------------------------\n",
      "| rollout/           |          |\n",
      "|    ep_len_mean     | 19.9     |\n",
      "|    ep_rew_mean     | -69.4    |\n",
      "| time/              |          |\n",
      "|    episodes        | 325      |\n",
      "|    fps             | 100      |\n",
      "|    time_elapsed    | 65       |\n",
      "|    total_timesteps | 6569     |\n",
      "| train/             |          |\n",
      "|    actor_loss      | 54.4     |\n",
      "|    critic_loss     | 13       |\n",
      "|    learning_rate   | 0.001    |\n",
      "|    n_updates       | 6546     |\n",
      "---------------------------------\n"
     ]
    },
    {
     "name": "stdout",
     "output_type": "stream",
     "text": [
      "---------------------------------\n",
      "| rollout/           |          |\n",
      "|    ep_len_mean     | 19.9     |\n",
      "|    ep_rew_mean     | -69.5    |\n",
      "| time/              |          |\n",
      "|    episodes        | 330      |\n",
      "|    fps             | 100      |\n",
      "|    time_elapsed    | 66       |\n",
      "|    total_timesteps | 6674     |\n",
      "| train/             |          |\n",
      "|    actor_loss      | 53.9     |\n",
      "|    critic_loss     | 11.5     |\n",
      "|    learning_rate   | 0.001    |\n",
      "|    n_updates       | 6652     |\n",
      "---------------------------------\n"
     ]
    },
    {
     "name": "stdout",
     "output_type": "stream",
     "text": [
      "---------------------------------\n",
      "| rollout/           |          |\n",
      "|    ep_len_mean     | 20.1     |\n",
      "|    ep_rew_mean     | -68.6    |\n",
      "| time/              |          |\n",
      "|    episodes        | 335      |\n",
      "|    fps             | 100      |\n",
      "|    time_elapsed    | 67       |\n",
      "|    total_timesteps | 6773     |\n",
      "| train/             |          |\n",
      "|    actor_loss      | 53.5     |\n",
      "|    critic_loss     | 11.4     |\n",
      "|    learning_rate   | 0.001    |\n",
      "|    n_updates       | 6754     |\n",
      "---------------------------------\n"
     ]
    },
    {
     "name": "stdout",
     "output_type": "stream",
     "text": [
      "---------------------------------\n",
      "| rollout/           |          |\n",
      "|    ep_len_mean     | 20.1     |\n",
      "|    ep_rew_mean     | -70      |\n",
      "| time/              |          |\n",
      "|    episodes        | 340      |\n",
      "|    fps             | 100      |\n",
      "|    time_elapsed    | 68       |\n",
      "|    total_timesteps | 6873     |\n",
      "| train/             |          |\n",
      "|    actor_loss      | 54       |\n",
      "|    critic_loss     | 10.5     |\n",
      "|    learning_rate   | 0.001    |\n",
      "|    n_updates       | 6853     |\n",
      "---------------------------------\n"
     ]
    },
    {
     "name": "stdout",
     "output_type": "stream",
     "text": [
      "---------------------------------\n",
      "| rollout/           |          |\n",
      "|    ep_len_mean     | 20.1     |\n",
      "|    ep_rew_mean     | -70.5    |\n",
      "| time/              |          |\n",
      "|    episodes        | 345      |\n",
      "|    fps             | 100      |\n",
      "|    time_elapsed    | 69       |\n",
      "|    total_timesteps | 6975     |\n",
      "| train/             |          |\n",
      "|    actor_loss      | 53.5     |\n",
      "|    critic_loss     | 11.1     |\n",
      "|    learning_rate   | 0.001    |\n",
      "|    n_updates       | 6955     |\n",
      "---------------------------------\n"
     ]
    },
    {
     "name": "stdout",
     "output_type": "stream",
     "text": [
      "---------------------------------\n",
      "| rollout/           |          |\n",
      "|    ep_len_mean     | 20.2     |\n",
      "|    ep_rew_mean     | -70.7    |\n",
      "| time/              |          |\n",
      "|    episodes        | 350      |\n",
      "|    fps             | 100      |\n",
      "|    time_elapsed    | 70       |\n",
      "|    total_timesteps | 7078     |\n",
      "| train/             |          |\n",
      "|    actor_loss      | 53.6     |\n",
      "|    critic_loss     | 13.5     |\n",
      "|    learning_rate   | 0.001    |\n",
      "|    n_updates       | 7058     |\n",
      "---------------------------------\n"
     ]
    },
    {
     "name": "stdout",
     "output_type": "stream",
     "text": [
      "---------------------------------\n",
      "| rollout/           |          |\n",
      "|    ep_len_mean     | 20.3     |\n",
      "|    ep_rew_mean     | -70.1    |\n",
      "| time/              |          |\n",
      "|    episodes        | 355      |\n",
      "|    fps             | 100      |\n",
      "|    time_elapsed    | 71       |\n",
      "|    total_timesteps | 7186     |\n",
      "| train/             |          |\n",
      "|    actor_loss      | 53.7     |\n",
      "|    critic_loss     | 12.1     |\n",
      "|    learning_rate   | 0.001    |\n",
      "|    n_updates       | 7169     |\n",
      "---------------------------------\n"
     ]
    },
    {
     "name": "stdout",
     "output_type": "stream",
     "text": [
      "---------------------------------\n",
      "| rollout/           |          |\n",
      "|    ep_len_mean     | 20.4     |\n",
      "|    ep_rew_mean     | -71.2    |\n",
      "| time/              |          |\n",
      "|    episodes        | 360      |\n",
      "|    fps             | 101      |\n",
      "|    time_elapsed    | 72       |\n",
      "|    total_timesteps | 7287     |\n",
      "| train/             |          |\n",
      "|    actor_loss      | 53.1     |\n",
      "|    critic_loss     | 13.4     |\n",
      "|    learning_rate   | 0.001    |\n",
      "|    n_updates       | 7267     |\n",
      "---------------------------------\n"
     ]
    },
    {
     "name": "stdout",
     "output_type": "stream",
     "text": [
      "---------------------------------\n",
      "| rollout/           |          |\n",
      "|    ep_len_mean     | 20.2     |\n",
      "|    ep_rew_mean     | -69.6    |\n",
      "| time/              |          |\n",
      "|    episodes        | 365      |\n",
      "|    fps             | 101      |\n",
      "|    time_elapsed    | 72       |\n",
      "|    total_timesteps | 7371     |\n",
      "| train/             |          |\n",
      "|    actor_loss      | 53.4     |\n",
      "|    critic_loss     | 11.2     |\n",
      "|    learning_rate   | 0.001    |\n",
      "|    n_updates       | 7348     |\n",
      "---------------------------------\n"
     ]
    },
    {
     "name": "stdout",
     "output_type": "stream",
     "text": [
      "---------------------------------\n",
      "| rollout/           |          |\n",
      "|    ep_len_mean     | 20.2     |\n",
      "|    ep_rew_mean     | -69.4    |\n",
      "| time/              |          |\n",
      "|    episodes        | 370      |\n",
      "|    fps             | 101      |\n",
      "|    time_elapsed    | 73       |\n",
      "|    total_timesteps | 7477     |\n",
      "| train/             |          |\n",
      "|    actor_loss      | 52.8     |\n",
      "|    critic_loss     | 15.1     |\n",
      "|    learning_rate   | 0.001    |\n",
      "|    n_updates       | 7456     |\n",
      "---------------------------------\n"
     ]
    },
    {
     "name": "stdout",
     "output_type": "stream",
     "text": [
      "---------------------------------\n",
      "| rollout/           |          |\n",
      "|    ep_len_mean     | 20.2     |\n",
      "|    ep_rew_mean     | -68      |\n",
      "| time/              |          |\n",
      "|    episodes        | 375      |\n",
      "|    fps             | 101      |\n",
      "|    time_elapsed    | 75       |\n",
      "|    total_timesteps | 7579     |\n",
      "| train/             |          |\n",
      "|    actor_loss      | 53.8     |\n",
      "|    critic_loss     | 12.6     |\n",
      "|    learning_rate   | 0.001    |\n",
      "|    n_updates       | 7559     |\n",
      "---------------------------------\n"
     ]
    },
    {
     "name": "stdout",
     "output_type": "stream",
     "text": [
      "---------------------------------\n",
      "| rollout/           |          |\n",
      "|    ep_len_mean     | 20.1     |\n",
      "|    ep_rew_mean     | -67.8    |\n",
      "| time/              |          |\n",
      "|    episodes        | 380      |\n",
      "|    fps             | 101      |\n",
      "|    time_elapsed    | 75       |\n",
      "|    total_timesteps | 7680     |\n",
      "| train/             |          |\n",
      "|    actor_loss      | 54.3     |\n",
      "|    critic_loss     | 13       |\n",
      "|    learning_rate   | 0.001    |\n",
      "|    n_updates       | 7660     |\n",
      "---------------------------------\n"
     ]
    },
    {
     "name": "stdout",
     "output_type": "stream",
     "text": [
      "---------------------------------\n",
      "| rollout/           |          |\n",
      "|    ep_len_mean     | 20.2     |\n",
      "|    ep_rew_mean     | -68.5    |\n",
      "| time/              |          |\n",
      "|    episodes        | 385      |\n",
      "|    fps             | 101      |\n",
      "|    time_elapsed    | 77       |\n",
      "|    total_timesteps | 7786     |\n",
      "| train/             |          |\n",
      "|    actor_loss      | 53.6     |\n",
      "|    critic_loss     | 12.6     |\n",
      "|    learning_rate   | 0.001    |\n",
      "|    n_updates       | 7765     |\n",
      "---------------------------------\n"
     ]
    },
    {
     "name": "stdout",
     "output_type": "stream",
     "text": [
      "---------------------------------\n",
      "| rollout/           |          |\n",
      "|    ep_len_mean     | 20.2     |\n",
      "|    ep_rew_mean     | -68.5    |\n",
      "| time/              |          |\n",
      "|    episodes        | 390      |\n",
      "|    fps             | 101      |\n",
      "|    time_elapsed    | 77       |\n",
      "|    total_timesteps | 7881     |\n",
      "| train/             |          |\n",
      "|    actor_loss      | 53.8     |\n",
      "|    critic_loss     | 11.5     |\n",
      "|    learning_rate   | 0.001    |\n",
      "|    n_updates       | 7864     |\n",
      "---------------------------------\n"
     ]
    },
    {
     "name": "stdout",
     "output_type": "stream",
     "text": [
      "---------------------------------\n",
      "| rollout/           |          |\n",
      "|    ep_len_mean     | 20.2     |\n",
      "|    ep_rew_mean     | -67.5    |\n",
      "| time/              |          |\n",
      "|    episodes        | 395      |\n",
      "|    fps             | 101      |\n",
      "|    time_elapsed    | 78       |\n",
      "|    total_timesteps | 7986     |\n",
      "| train/             |          |\n",
      "|    actor_loss      | 53.9     |\n",
      "|    critic_loss     | 13.1     |\n",
      "|    learning_rate   | 0.001    |\n",
      "|    n_updates       | 7966     |\n",
      "---------------------------------\n"
     ]
    },
    {
     "name": "stdout",
     "output_type": "stream",
     "text": [
      "---------------------------------\n",
      "| rollout/           |          |\n",
      "|    ep_len_mean     | 20.3     |\n",
      "|    ep_rew_mean     | -69.4    |\n",
      "| time/              |          |\n",
      "|    episodes        | 400      |\n",
      "|    fps             | 101      |\n",
      "|    time_elapsed    | 79       |\n",
      "|    total_timesteps | 8090     |\n",
      "| train/             |          |\n",
      "|    actor_loss      | 54.2     |\n",
      "|    critic_loss     | 11.4     |\n",
      "|    learning_rate   | 0.001    |\n",
      "|    n_updates       | 8067     |\n",
      "---------------------------------\n"
     ]
    },
    {
     "name": "stdout",
     "output_type": "stream",
     "text": [
      "---------------------------------\n",
      "| rollout/           |          |\n",
      "|    ep_len_mean     | 20.4     |\n",
      "|    ep_rew_mean     | -71.1    |\n",
      "| time/              |          |\n",
      "|    episodes        | 405      |\n",
      "|    fps             | 101      |\n",
      "|    time_elapsed    | 81       |\n",
      "|    total_timesteps | 8195     |\n",
      "| train/             |          |\n",
      "|    actor_loss      | 53.3     |\n",
      "|    critic_loss     | 13.1     |\n",
      "|    learning_rate   | 0.001    |\n",
      "|    n_updates       | 8175     |\n",
      "---------------------------------\n"
     ]
    },
    {
     "name": "stdout",
     "output_type": "stream",
     "text": [
      "---------------------------------\n",
      "| rollout/           |          |\n",
      "|    ep_len_mean     | 20.4     |\n",
      "|    ep_rew_mean     | -71.2    |\n",
      "| time/              |          |\n",
      "|    episodes        | 410      |\n",
      "|    fps             | 101      |\n",
      "|    time_elapsed    | 82       |\n",
      "|    total_timesteps | 8298     |\n",
      "| train/             |          |\n",
      "|    actor_loss      | 53.8     |\n",
      "|    critic_loss     | 10.6     |\n",
      "|    learning_rate   | 0.001    |\n",
      "|    n_updates       | 8276     |\n",
      "---------------------------------\n"
     ]
    },
    {
     "name": "stdout",
     "output_type": "stream",
     "text": [
      "---------------------------------\n",
      "| rollout/           |          |\n",
      "|    ep_len_mean     | 20.3     |\n",
      "|    ep_rew_mean     | -71.1    |\n",
      "| time/              |          |\n",
      "|    episodes        | 415      |\n",
      "|    fps             | 101      |\n",
      "|    time_elapsed    | 82       |\n",
      "|    total_timesteps | 8392     |\n",
      "| train/             |          |\n",
      "|    actor_loss      | 53.4     |\n",
      "|    critic_loss     | 12.8     |\n",
      "|    learning_rate   | 0.001    |\n",
      "|    n_updates       | 8373     |\n",
      "---------------------------------\n"
     ]
    },
    {
     "name": "stdout",
     "output_type": "stream",
     "text": [
      "---------------------------------\n",
      "| rollout/           |          |\n",
      "|    ep_len_mean     | 20.3     |\n",
      "|    ep_rew_mean     | -69.2    |\n",
      "| time/              |          |\n",
      "|    episodes        | 420      |\n",
      "|    fps             | 101      |\n",
      "|    time_elapsed    | 83       |\n",
      "|    total_timesteps | 8491     |\n",
      "| train/             |          |\n",
      "|    actor_loss      | 53.2     |\n",
      "|    critic_loss     | 12.2     |\n",
      "|    learning_rate   | 0.001    |\n",
      "|    n_updates       | 8470     |\n",
      "---------------------------------\n"
     ]
    },
    {
     "name": "stdout",
     "output_type": "stream",
     "text": [
      "---------------------------------\n",
      "| rollout/           |          |\n",
      "|    ep_len_mean     | 20.1     |\n",
      "|    ep_rew_mean     | -69.5    |\n",
      "| time/              |          |\n",
      "|    episodes        | 425      |\n",
      "|    fps             | 101      |\n",
      "|    time_elapsed    | 84       |\n",
      "|    total_timesteps | 8583     |\n",
      "| train/             |          |\n",
      "|    actor_loss      | 53.6     |\n",
      "|    critic_loss     | 13.1     |\n",
      "|    learning_rate   | 0.001    |\n",
      "|    n_updates       | 8567     |\n",
      "---------------------------------\n"
     ]
    },
    {
     "name": "stdout",
     "output_type": "stream",
     "text": [
      "---------------------------------\n",
      "| rollout/           |          |\n",
      "|    ep_len_mean     | 20.1     |\n",
      "|    ep_rew_mean     | -68.5    |\n",
      "| time/              |          |\n",
      "|    episodes        | 430      |\n",
      "|    fps             | 101      |\n",
      "|    time_elapsed    | 85       |\n",
      "|    total_timesteps | 8679     |\n",
      "| train/             |          |\n",
      "|    actor_loss      | 53.4     |\n",
      "|    critic_loss     | 13.2     |\n",
      "|    learning_rate   | 0.001    |\n",
      "|    n_updates       | 8663     |\n",
      "---------------------------------\n"
     ]
    },
    {
     "name": "stdout",
     "output_type": "stream",
     "text": [
      "---------------------------------\n",
      "| rollout/           |          |\n",
      "|    ep_len_mean     | 20.1     |\n",
      "|    ep_rew_mean     | -69.1    |\n",
      "| time/              |          |\n",
      "|    episodes        | 435      |\n",
      "|    fps             | 101      |\n",
      "|    time_elapsed    | 86       |\n",
      "|    total_timesteps | 8778     |\n",
      "| train/             |          |\n",
      "|    actor_loss      | 52.8     |\n",
      "|    critic_loss     | 11.5     |\n",
      "|    learning_rate   | 0.001    |\n",
      "|    n_updates       | 8758     |\n",
      "---------------------------------\n"
     ]
    },
    {
     "name": "stdout",
     "output_type": "stream",
     "text": [
      "---------------------------------\n",
      "| rollout/           |          |\n",
      "|    ep_len_mean     | 20.1     |\n",
      "|    ep_rew_mean     | -68.4    |\n",
      "| time/              |          |\n",
      "|    episodes        | 440      |\n",
      "|    fps             | 101      |\n",
      "|    time_elapsed    | 87       |\n",
      "|    total_timesteps | 8883     |\n",
      "| train/             |          |\n",
      "|    actor_loss      | 53.7     |\n",
      "|    critic_loss     | 13.2     |\n",
      "|    learning_rate   | 0.001    |\n",
      "|    n_updates       | 8862     |\n",
      "---------------------------------\n"
     ]
    },
    {
     "name": "stdout",
     "output_type": "stream",
     "text": [
      "---------------------------------\n",
      "| rollout/           |          |\n",
      "|    ep_len_mean     | 20.1     |\n",
      "|    ep_rew_mean     | -68.4    |\n",
      "| time/              |          |\n",
      "|    episodes        | 445      |\n",
      "|    fps             | 101      |\n",
      "|    time_elapsed    | 88       |\n",
      "|    total_timesteps | 8982     |\n",
      "| train/             |          |\n",
      "|    actor_loss      | 53       |\n",
      "|    critic_loss     | 12.8     |\n",
      "|    learning_rate   | 0.001    |\n",
      "|    n_updates       | 8964     |\n",
      "---------------------------------\n"
     ]
    },
    {
     "name": "stdout",
     "output_type": "stream",
     "text": [
      "---------------------------------\n",
      "| rollout/           |          |\n",
      "|    ep_len_mean     | 20.1     |\n",
      "|    ep_rew_mean     | -68.8    |\n",
      "| time/              |          |\n",
      "|    episodes        | 450      |\n",
      "|    fps             | 101      |\n",
      "|    time_elapsed    | 89       |\n",
      "|    total_timesteps | 9087     |\n",
      "| train/             |          |\n",
      "|    actor_loss      | 53.3     |\n",
      "|    critic_loss     | 12.5     |\n",
      "|    learning_rate   | 0.001    |\n",
      "|    n_updates       | 9066     |\n",
      "---------------------------------\n"
     ]
    },
    {
     "name": "stdout",
     "output_type": "stream",
     "text": [
      "---------------------------------\n",
      "| rollout/           |          |\n",
      "|    ep_len_mean     | 20.1     |\n",
      "|    ep_rew_mean     | -70.6    |\n",
      "| time/              |          |\n",
      "|    episodes        | 455      |\n",
      "|    fps             | 101      |\n",
      "|    time_elapsed    | 90       |\n",
      "|    total_timesteps | 9193     |\n",
      "| train/             |          |\n",
      "|    actor_loss      | 53.3     |\n",
      "|    critic_loss     | 10.2     |\n",
      "|    learning_rate   | 0.001    |\n",
      "|    n_updates       | 9171     |\n",
      "---------------------------------\n"
     ]
    },
    {
     "name": "stdout",
     "output_type": "stream",
     "text": [
      "---------------------------------\n",
      "| rollout/           |          |\n",
      "|    ep_len_mean     | 20.1     |\n",
      "|    ep_rew_mean     | -71.1    |\n",
      "| time/              |          |\n",
      "|    episodes        | 460      |\n",
      "|    fps             | 101      |\n",
      "|    time_elapsed    | 91       |\n",
      "|    total_timesteps | 9293     |\n",
      "| train/             |          |\n",
      "|    actor_loss      | 53.5     |\n",
      "|    critic_loss     | 15.5     |\n",
      "|    learning_rate   | 0.001    |\n",
      "|    n_updates       | 9272     |\n",
      "---------------------------------\n"
     ]
    },
    {
     "name": "stdout",
     "output_type": "stream",
     "text": [
      "---------------------------------\n",
      "| rollout/           |          |\n",
      "|    ep_len_mean     | 20.2     |\n",
      "|    ep_rew_mean     | -72.3    |\n",
      "| time/              |          |\n",
      "|    episodes        | 465      |\n",
      "|    fps             | 101      |\n",
      "|    time_elapsed    | 92       |\n",
      "|    total_timesteps | 9395     |\n",
      "| train/             |          |\n",
      "|    actor_loss      | 54.1     |\n",
      "|    critic_loss     | 13.3     |\n",
      "|    learning_rate   | 0.001    |\n",
      "|    n_updates       | 9376     |\n",
      "---------------------------------\n"
     ]
    },
    {
     "name": "stdout",
     "output_type": "stream",
     "text": [
      "---------------------------------\n",
      "| rollout/           |          |\n",
      "|    ep_len_mean     | 20.1     |\n",
      "|    ep_rew_mean     | -73      |\n",
      "| time/              |          |\n",
      "|    episodes        | 470      |\n",
      "|    fps             | 101      |\n",
      "|    time_elapsed    | 93       |\n",
      "|    total_timesteps | 9489     |\n",
      "| train/             |          |\n",
      "|    actor_loss      | 53.5     |\n",
      "|    critic_loss     | 14       |\n",
      "|    learning_rate   | 0.001    |\n",
      "|    n_updates       | 9469     |\n",
      "---------------------------------\n"
     ]
    },
    {
     "name": "stdout",
     "output_type": "stream",
     "text": [
      "---------------------------------\n",
      "| rollout/           |          |\n",
      "|    ep_len_mean     | 20.2     |\n",
      "|    ep_rew_mean     | -72.7    |\n",
      "| time/              |          |\n",
      "|    episodes        | 475      |\n",
      "|    fps             | 101      |\n",
      "|    time_elapsed    | 94       |\n",
      "|    total_timesteps | 9597     |\n",
      "| train/             |          |\n",
      "|    actor_loss      | 53.6     |\n",
      "|    critic_loss     | 12.4     |\n",
      "|    learning_rate   | 0.001    |\n",
      "|    n_updates       | 9574     |\n",
      "---------------------------------\n"
     ]
    },
    {
     "name": "stdout",
     "output_type": "stream",
     "text": [
      "---------------------------------\n",
      "| rollout/           |          |\n",
      "|    ep_len_mean     | 20.2     |\n",
      "|    ep_rew_mean     | -72.6    |\n",
      "| time/              |          |\n",
      "|    episodes        | 480      |\n",
      "|    fps             | 101      |\n",
      "|    time_elapsed    | 95       |\n",
      "|    total_timesteps | 9696     |\n",
      "| train/             |          |\n",
      "|    actor_loss      | 53.9     |\n",
      "|    critic_loss     | 15.1     |\n",
      "|    learning_rate   | 0.001    |\n",
      "|    n_updates       | 9674     |\n",
      "---------------------------------\n"
     ]
    },
    {
     "name": "stdout",
     "output_type": "stream",
     "text": [
      "---------------------------------\n",
      "| rollout/           |          |\n",
      "|    ep_len_mean     | 20.1     |\n",
      "|    ep_rew_mean     | -71.8    |\n",
      "| time/              |          |\n",
      "|    episodes        | 485      |\n",
      "|    fps             | 101      |\n",
      "|    time_elapsed    | 96       |\n",
      "|    total_timesteps | 9791     |\n",
      "| train/             |          |\n",
      "|    actor_loss      | 53.7     |\n",
      "|    critic_loss     | 12.8     |\n",
      "|    learning_rate   | 0.001    |\n",
      "|    n_updates       | 9771     |\n",
      "---------------------------------\n"
     ]
    },
    {
     "name": "stdout",
     "output_type": "stream",
     "text": [
      "---------------------------------\n",
      "| rollout/           |          |\n",
      "|    ep_len_mean     | 20.2     |\n",
      "|    ep_rew_mean     | -71.3    |\n",
      "| time/              |          |\n",
      "|    episodes        | 490      |\n",
      "|    fps             | 101      |\n",
      "|    time_elapsed    | 97       |\n",
      "|    total_timesteps | 9897     |\n",
      "| train/             |          |\n",
      "|    actor_loss      | 53.6     |\n",
      "|    critic_loss     | 12.7     |\n",
      "|    learning_rate   | 0.001    |\n",
      "|    n_updates       | 9876     |\n",
      "---------------------------------\n"
     ]
    },
    {
     "name": "stdout",
     "output_type": "stream",
     "text": [
      "---------------------------------\n",
      "| rollout/           |          |\n",
      "|    ep_len_mean     | 20.1     |\n",
      "|    ep_rew_mean     | -71.8    |\n",
      "| time/              |          |\n",
      "|    episodes        | 495      |\n",
      "|    fps             | 101      |\n",
      "|    time_elapsed    | 98       |\n",
      "|    total_timesteps | 10001    |\n",
      "| train/             |          |\n",
      "|    actor_loss      | 53.7     |\n",
      "|    critic_loss     | 12.8     |\n",
      "|    learning_rate   | 0.001    |\n",
      "|    n_updates       | 9978     |\n",
      "---------------------------------\n"
     ]
    },
    {
     "data": {
      "text/html": [
       "<pre style=\"white-space:pre;overflow-x:auto;line-height:normal;font-family:Menlo,'DejaVu Sans Mono',consolas,'Courier New',monospace\"></pre>\n"
      ],
      "text/plain": []
     },
     "metadata": {},
     "output_type": "display_data"
    },
    {
     "data": {
      "text/html": [
       "<pre style=\"white-space:pre;overflow-x:auto;line-height:normal;font-family:Menlo,'DejaVu Sans Mono',consolas,'Courier New',monospace\">\n",
       "</pre>\n"
      ],
      "text/plain": [
       "\n"
      ]
     },
     "metadata": {},
     "output_type": "display_data"
    },
    {
     "data": {
      "text/plain": [
       "<stable_baselines3.ddpg.ddpg.DDPG at 0x7f9a60431050>"
      ]
     },
     "execution_count": 1,
     "metadata": {},
     "output_type": "execute_result"
    }
   ],
   "source": [
    "import hsup as _\n",
    "import gymnasium as gym\n",
    "from stable_baselines3 import PPO, DDPG\n",
    "\n",
    "from dataset.data import data\n",
    "from dataset.simulation import model_indoor, model_sec_back_t\n",
    "\n",
    "env = gym.make(\n",
    "    \"hsup/HeatSupply-v0\",\n",
    "    data=data,\n",
    "    model_indoor=model_indoor,\n",
    "    model_sec_back_t=model_sec_back_t,    \n",
    ")\n",
    "\n",
    "model = DDPG(\"MlpPolicy\", env, verbose=1, tensorboard_log=\"./runs\", seed=42)\n",
    "model.learn(total_timesteps=10000, progress_bar=True, log_interval=5)\n"
   ]
  },
  {
   "cell_type": "code",
   "execution_count": 2,
   "metadata": {},
   "outputs": [
    {
     "name": "stdout",
     "output_type": "stream",
     "text": [
      "sec_supp_t_120min     1.289722\n",
      "sec_supp_t_180min     3.289722\n",
      "sec_back_t_180min    11.326221\n",
      "irradiance            0.000333\n",
      "sec_supp_t_60min     -0.710278\n",
      "indoor_120min        22.757061\n",
      "irradiance_120min     0.011165\n",
      "indoor_180min        22.912781\n",
      "outdoor_60min        -4.400000\n",
      "irradiance_60min      0.000000\n",
      "sec_back_t_120min     9.832167\n",
      "sec_back_t_60min      8.330441\n",
      "indoor_60min         22.596690\n",
      "outdoor_120min       -3.691667\n",
      "outdoor              -6.216667\n",
      "Name: 2022-02-04 22:00:00, dtype: float64\n"
     ]
    },
    {
     "data": {
      "image/png": "[encoded data removed]",
      "text/plain": [
       "<Figure size 1500x500 with 1 Axes>"
      ]
     },
     "metadata": {},
     "output_type": "display_data"
    }
   ],
   "source": [
    "obs, info = env.reset()\n",
    "while True:\n",
    "    action, _states = model.predict(obs, deterministic=True)\n",
    "    obs, reward, done, trunc, info = env.step(action)\n",
    "    if trunc or done:\n",
    "        break\n",
    "env.render()"
   ]
  },
  {
   "cell_type": "code",
   "execution_count": null,
   "metadata": {},
   "outputs": [],
   "source": []
  }
 ],
 "metadata": {
  "kernelspec": {
   "display_name": "rl",
   "language": "python",
   "name": "python3"
  },
  "language_info": {
   "codemirror_mode": {
    "name": "ipython",
    "version": 3
   },
   "file_extension": ".py",
   "mimetype": "text/x-python",
   "name": "python",
   "nbconvert_exporter": "python",
   "pygments_lexer": "ipython3",
   "version": "3.11.5"
  }
 },
 "nbformat": 4,
 "nbformat_minor": 2
}
