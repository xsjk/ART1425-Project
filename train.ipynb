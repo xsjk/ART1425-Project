{
 "cells": [
  {
   "cell_type": "code",
   "execution_count": null,
   "metadata": {},
   "outputs": [],
   "source": [
    "import torch\n",
    "import numpy as np\n",
    "\n",
    "torch.manual_seed(0)\n",
    "torch.cuda.manual_seed(0)\n",
    "np.random.seed(0)"
   ]
  },
  {
   "cell_type": "code",
   "execution_count": null,
   "metadata": {},
   "outputs": [],
   "source": [
    "import hsup as _\n",
    "import gymnasium as gym\n",
    "\n",
    "import dataset.preprocess as preprocess\n",
    "import dataset.simulation as simulation\n",
    "import dataset.data as data\n"
   ]
  },
  {
   "cell_type": "code",
   "execution_count": null,
   "metadata": {},
   "outputs": [],
   "source": [
    "\n",
    "model_sec_back_t = simulation.MLPModel.load_from_checkpoint(\"lightning_logs/split.sec_back_t/checkpoints/epoch=816-step=90687.ckpt\")\n",
    "model_indoor = simulation.MLPModel.load_from_checkpoint(\"lightning_logs/split.indoor/checkpoints/epoch=814-step=90465.ckpt\")\n",
    "\n",
    "model_sec_back_t.eval()\n",
    "model_indoor.eval()\n",
    "\n",
    "env = gym.make(\n",
    "    \"hsup/HeatSupply\",\n",
    "    max_episode_steps=24 * 6,\n",
    "    data=data.train_data,\n",
    "    model_sec_back_t=model_sec_back_t,    \n",
    "    model_indoor=model_indoor,\n",
    "    # discretize=True,\n",
    ")\n"
   ]
  },
  {
   "cell_type": "code",
   "execution_count": null,
   "metadata": {},
   "outputs": [],
   "source": [
    "from stable_baselines3 import DQN, PPO\n",
    "\n",
    "MODEL = PPO\n",
    "TOTAL_TIMESTEPS = int(5e4)\n",
    "LOG_INTERVAL = 1\n"
   ]
  },
  {
   "cell_type": "code",
   "execution_count": null,
   "metadata": {},
   "outputs": [],
   "source": [
    "model = MODEL(\"MlpPolicy\", env, verbose=1, tensorboard_log=\"./runs\", seed=0)\n",
    "model.learn(total_timesteps=TOTAL_TIMESTEPS, progress_bar=True, log_interval=LOG_INTERVAL)\n",
    "model.save(f\"checkpoints/{MODEL.__name__}-{TOTAL_TIMESTEPS}\")\n"
   ]
  },
  {
   "cell_type": "code",
   "execution_count": null,
   "metadata": {},
   "outputs": [],
   "source": [
    "model = MODEL.load(f\"checkpoints/{MODEL.__name__}-{TOTAL_TIMESTEPS}\")\n",
    "\n",
    "obs, _ = env.reset()\n",
    "while True:\n",
    "    action, _states = model.predict(obs, deterministic=True)\n",
    "    obs, reward, done, trunc, _ = env.step(action)\n",
    "    if trunc or done:\n",
    "        break\n",
    "    \n",
    "env.plot()"
   ]
  }
 ],
 "metadata": {
  "kernelspec": {
   "display_name": "rl",
   "language": "python",
   "name": "python3"
  },
  "language_info": {
   "codemirror_mode": {
    "name": "ipython",
    "version": 3
   },
   "file_extension": ".py",
   "mimetype": "text/x-python",
   "name": "python",
   "nbconvert_exporter": "python",
   "pygments_lexer": "ipython3",
   "version": "3.11.5"
  }
 },
 "nbformat": 4,
 "nbformat_minor": 2
}
