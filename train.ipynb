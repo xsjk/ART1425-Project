{
 "cells": [
  {
   "cell_type": "code",
   "execution_count": 1,
   "metadata": {},
   "outputs": [],
   "source": [
    "import hsup as _\n",
    "import gymnasium as gym\n",
    "from stable_baselines3 import PPO, DDPG, DQN\n",
    "import torch\n",
    "import numpy as np\n",
    "\n",
    "from dataset.data import data\n",
    "from dataset.simulation import model_indoor, model_sec_back_t"
   ]
  },
  {
   "cell_type": "code",
   "execution_count": 2,
   "metadata": {},
   "outputs": [],
   "source": [
    "SEED = 42\n",
    "\n",
    "torch.manual_seed(SEED)\n",
    "torch.cuda.manual_seed(SEED)\n",
    "np.random.seed(SEED)\n"
   ]
  },
  {
   "cell_type": "code",
   "execution_count": 3,
   "metadata": {},
   "outputs": [],
   "source": [
    "TOTAL_TIMESTEPS = int(1e3)\n",
    "LOG_INTERVAL = 100\n",
    "MODEL = DQN\n",
    "\n",
    "env = gym.make(\n",
    "    \"hsup/HeatSupply-v0\",\n",
    "    max_episode_steps=24,\n",
    "\n",
    "    data=data,\n",
    "    model_indoor=model_indoor,\n",
    "    model_sec_back_t=model_sec_back_t,\n",
    "    discretize=True,\n",
    ")"
   ]
  },
  {
   "cell_type": "code",
   "execution_count": 4,
   "metadata": {},
   "outputs": [
    {
     "name": "stdout",
     "output_type": "stream",
     "text": [
      "Using cuda device\n",
      "Wrapping the env with a `Monitor` wrapper\n",
      "Wrapping the env in a DummyVecEnv.\n",
      "Logging to ./runs/DQN_1\n"
     ]
    },
    {
     "data": {
      "application/vnd.jupyter.widget-view+json": {
       "model_id": "a12a167d0d9b455097fa5b599b68b144",
       "version_major": 2,
       "version_minor": 0
      },
      "text/plain": [
       "Output()"
      ]
     },
     "metadata": {},
     "output_type": "display_data"
    },
    {
     "data": {
      "text/html": [
       "<pre style=\"white-space:pre;overflow-x:auto;line-height:normal;font-family:Menlo,'DejaVu Sans Mono',consolas,'Courier New',monospace\">/home/yanglsh/miniconda3/envs/rl/lib/python3.11/site-packages/gymnasium/utils/passive_env_checker.py:164: \n",
       "UserWarning: <span style=\"color: #808000; text-decoration-color: #808000\">WARN: The obs returned by the `step()` method was expecting numpy array dtype to be float32, actual </span>\n",
       "<span style=\"color: #808000; text-decoration-color: #808000\">type: float64</span>\n",
       "  logger.warn(\n",
       "</pre>\n"
      ],
      "text/plain": [
       "/home/yanglsh/miniconda3/envs/rl/lib/python3.11/site-packages/gymnasium/utils/passive_env_checker.py:164: \n",
       "UserWarning: \u001b[33mWARN: The obs returned by the `step()` method was expecting numpy array dtype to be float32, actual \u001b[0m\n",
       "\u001b[33mtype: float64\u001b[0m\n",
       "  logger.warn(\n"
      ]
     },
     "metadata": {},
     "output_type": "display_data"
    },
    {
     "data": {
      "text/html": [
       "<pre style=\"white-space:pre;overflow-x:auto;line-height:normal;font-family:Menlo,'DejaVu Sans Mono',consolas,'Courier New',monospace\">/home/yanglsh/miniconda3/envs/rl/lib/python3.11/site-packages/gymnasium/utils/passive_env_checker.py:188: \n",
       "UserWarning: <span style=\"color: #808000; text-decoration-color: #808000\">WARN: The obs returned by the `step()` method is not within the observation space.</span>\n",
       "  logger.warn(f\"{pre} is not within the observation space.\")\n",
       "</pre>\n"
      ],
      "text/plain": [
       "/home/yanglsh/miniconda3/envs/rl/lib/python3.11/site-packages/gymnasium/utils/passive_env_checker.py:188: \n",
       "UserWarning: \u001b[33mWARN: The obs returned by the `step()` method is not within the observation space.\u001b[0m\n",
       "  logger.warn(f\"{pre} is not within the observation space.\")\n"
      ]
     },
     "metadata": {},
     "output_type": "display_data"
    },
    {
     "name": "stderr",
     "output_type": "stream",
     "text": [
      "/home/yanglsh/miniconda3/envs/rl/lib/python3.11/site-packages/gymnasium/utils/passive_env_checker.py:164: UserWarning: \u001b[33mWARN: The obs returned by the `reset()` method was expecting numpy array dtype to be float32, actual type: float64\u001b[0m\n",
      "  logger.warn(\n",
      "/home/yanglsh/miniconda3/envs/rl/lib/python3.11/site-packages/gymnasium/utils/passive_env_checker.py:188: UserWarning: \u001b[33mWARN: The obs returned by the `reset()` method is not within the observation space.\u001b[0m\n",
      "  logger.warn(f\"{pre} is not within the observation space.\")\n"
     ]
    },
    {
     "data": {
      "text/html": [
       "<pre style=\"white-space:pre;overflow-x:auto;line-height:normal;font-family:Menlo,'DejaVu Sans Mono',consolas,'Courier New',monospace\"></pre>\n"
      ],
      "text/plain": []
     },
     "metadata": {},
     "output_type": "display_data"
    },
    {
     "data": {
      "text/html": [
       "<pre style=\"white-space:pre;overflow-x:auto;line-height:normal;font-family:Menlo,'DejaVu Sans Mono',consolas,'Courier New',monospace\">\n",
       "</pre>\n"
      ],
      "text/plain": [
       "\n"
      ]
     },
     "metadata": {},
     "output_type": "display_data"
    }
   ],
   "source": [
    "model = MODEL(\"MlpPolicy\", env, verbose=1, tensorboard_log=\"./runs\", seed=SEED)\n",
    "model.learn(total_timesteps=TOTAL_TIMESTEPS, progress_bar=True, log_interval=LOG_INTERVAL)\n",
    "model.save(f\"checkpoints/{MODEL.__name__}-{TOTAL_TIMESTEPS}\")\n"
   ]
  },
  {
   "cell_type": "code",
   "execution_count": 5,
   "metadata": {},
   "outputs": [
    {
     "name": "stdout",
     "output_type": "stream",
     "text": [
      "sec_back_t_60min      51.311628\n",
      "indoor_120min         25.301089\n",
      "sec_supp_t_120min     60.624056\n",
      "irradiance_60min     245.213258\n",
      "outdoor_60min          2.416667\n",
      "sec_back_t_120min     51.177764\n",
      "irradiance           108.637439\n",
      "outdoor                2.008333\n",
      "outdoor_120min         2.266667\n",
      "indoor_60min          25.235502\n",
      "indoor_180min         25.195026\n",
      "sec_back_t_180min     51.055040\n",
      "irradiance_120min    378.676900\n",
      "sec_supp_t_60min      60.624056\n",
      "sec_supp_t_180min     60.624056\n",
      "Name: 2022-02-02 15:00:00, dtype: float64\n"
     ]
    }
   ],
   "source": [
    "model = MODEL.load(f\"checkpoints/{MODEL.__name__}-{TOTAL_TIMESTEPS}\")\n",
    "\n",
    "obs, _ = env.reset()\n",
    "while True:\n",
    "    action, _states = model.predict(obs, deterministic=True)\n",
    "    obs, reward, done, trunc, _ = env.step(action)\n",
    "    if trunc or done:\n",
    "        break\n",
    "    \n",
    "env.render()"
   ]
  }
 ],
 "metadata": {
  "kernelspec": {
   "display_name": "rl",
   "language": "python",
   "name": "python3"
  },
  "language_info": {
   "codemirror_mode": {
    "name": "ipython",
    "version": 3
   },
   "file_extension": ".py",
   "mimetype": "text/x-python",
   "name": "python",
   "nbconvert_exporter": "python",
   "pygments_lexer": "ipython3",
   "version": "3.11.5"
  }
 },
 "nbformat": 4,
 "nbformat_minor": 2
}
