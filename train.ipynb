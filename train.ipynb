{
 "cells": [
  {
   "cell_type": "code",
   "execution_count": 11,
   "metadata": {},
   "outputs": [],
   "source": [
    "import hsup as _\n",
    "import gymnasium as gym\n",
    "from stable_baselines3 import PPO, DDPG, DQN, A2C, SAC\n",
    "import torch\n",
    "import numpy as np\n",
    "\n",
    "from dataset.data import data\n",
    "from dataset.simulation import model_indoor, model_sec_back_t"
   ]
  },
  {
   "cell_type": "code",
   "execution_count": 12,
   "metadata": {},
   "outputs": [],
   "source": [
    "SEED = 42\n",
    "\n",
    "torch.manual_seed(SEED)\n",
    "torch.cuda.manual_seed(SEED)\n",
    "np.random.seed(SEED)\n"
   ]
  },
  {
   "cell_type": "code",
   "execution_count": 13,
   "metadata": {},
   "outputs": [],
   "source": [
    "TOTAL_TIMESTEPS = int(1e4)\n",
    "LOG_INTERVAL = 100\n",
    "MODEL = SAC\n",
    "\n",
    "env = gym.make(\n",
    "    \"hsup/HeatSupply-v0\",\n",
    "    max_episode_steps=24,\n",
    "\n",
    "    data=data,\n",
    "    model_indoor=model_indoor,\n",
    "    model_sec_back_t=model_sec_back_t,\n",
    "    # discretize=True,\n",
    ")"
   ]
  },
  {
   "cell_type": "code",
   "execution_count": 14,
   "metadata": {},
   "outputs": [
    {
     "name": "stdout",
     "output_type": "stream",
     "text": [
      "Using cuda device\n",
      "Wrapping the env with a `Monitor` wrapper\n",
      "Wrapping the env in a DummyVecEnv.\n",
      "Logging to ./runs/SAC_1\n"
     ]
    },
    {
     "data": {
      "application/vnd.jupyter.widget-view+json": {
       "model_id": "8f164498f6a94527a080ad17e0caf842",
       "version_major": 2,
       "version_minor": 0
      },
      "text/plain": [
       "Output()"
      ]
     },
     "metadata": {},
     "output_type": "display_data"
    },
    {
     "name": "stderr",
     "output_type": "stream",
     "text": [
      "/home/yanglsh/miniconda3/envs/rl/lib/python3.11/site-packages/stable_baselines3/common/callbacks.py:699: TqdmExperimentalWarning: rich is experimental/alpha\n",
      "  self.pbar = tqdm(total=self.locals[\"total_timesteps\"] - self.model.num_timesteps)\n"
     ]
    }
   ],
   "source": [
    "model = MODEL(\"MlpPolicy\", env, verbose=1, tensorboard_log=\"./runs\", seed=SEED)\n",
    "model.learn(total_timesteps=TOTAL_TIMESTEPS, progress_bar=True, log_interval=LOG_INTERVAL)\n",
    "model.save(f\"checkpoints/{MODEL.__name__}-{TOTAL_TIMESTEPS}\")\n"
   ]
  },
  {
   "cell_type": "code",
   "execution_count": null,
   "metadata": {},
   "outputs": [
    {
     "name": "stdout",
     "output_type": "stream",
     "text": [
      "indoor_60min          24.572050\n",
      "sec_back_t_180min     38.651613\n",
      "outdoor                2.008333\n",
      "irradiance           108.637439\n",
      "outdoor_120min         2.266667\n",
      "sec_back_t_120min     37.778888\n",
      "sec_supp_t_180min     42.125240\n",
      "sec_supp_t_60min      39.414272\n",
      "outdoor_60min          2.416667\n",
      "sec_supp_t_120min     40.801083\n",
      "indoor_120min         24.606747\n",
      "irradiance_60min     245.213258\n",
      "irradiance_120min    378.676900\n",
      "sec_back_t_60min      36.893267\n",
      "indoor_180min         24.538540\n",
      "Name: 2022-02-02 15:00:00, dtype: float64\n"
     ]
    }
   ],
   "source": [
    "model = MODEL.load(f\"checkpoints/{MODEL.__name__}-{TOTAL_TIMESTEPS}\")\n",
    "\n",
    "obs, _ = env.reset()\n",
    "while True:\n",
    "    action, _states = model.predict(obs, deterministic=True)\n",
    "    obs, reward, done, trunc, _ = env.step(action)\n",
    "    if trunc or done:\n",
    "        break\n",
    "    \n",
    "env.render()"
   ]
  }
 ],
 "metadata": {
  "kernelspec": {
   "display_name": "rl",
   "language": "python",
   "name": "python3"
  },
  "language_info": {
   "codemirror_mode": {
    "name": "ipython",
    "version": 3
   },
   "file_extension": ".py",
   "mimetype": "text/x-python",
   "name": "python",
   "nbconvert_exporter": "python",
   "pygments_lexer": "ipython3",
   "version": "3.11.5"
  }
 },
 "nbformat": 4,
 "nbformat_minor": 2
}
