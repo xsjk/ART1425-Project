{
 "cells": [
  {
   "cell_type": "code",
   "execution_count": null,
   "metadata": {},
   "outputs": [],
   "source": [
    "from dataset.data import train_data\n",
    "import dataset.preprocess as preprocess\n",
    "import dataset.data as data\n",
    "import dataset.simulation as simulation\n",
    "import torch\n",
    "import torch.nn.functional as F\n",
    "import pandas as pd\n"
   ]
  },
  {
   "cell_type": "code",
   "execution_count": null,
   "metadata": {},
   "outputs": [],
   "source": [
    "sec_back_t_model = simulation.MLPModel.load_from_checkpoint('lightning_logs/split.sec_back_t/checkpoints/epoch=2499-step=277500.ckpt')\n",
    "\n",
    "sec_back_t_model.eval()\n",
    "with torch.no_grad():    \n",
    "    sec_back_t_pred = sec_back_t_model(preprocess.X_sec_back_t.to(sec_back_t_model.device)).cpu().squeeze()\n",
    "\n",
    "print(F.mse_loss(sec_back_t_pred, preprocess.y_sec_back_t))\n",
    "\n",
    "pd.DataFrame({\n",
    "    'sec_back_t': preprocess.y_sec_back_t.flatten(),\n",
    "    'sec_back_t_pred': sec_back_t_pred.flatten()\n",
    "}, index=train_data.index[1:]).plot(\n",
    "    figsize=(15, 4),\n",
    "    # xlim=('2022-1-1', '2022-1-2'),\n",
    "    ylim=(20, 40),\n",
    "    grid=True,\n",
    ")\n"
   ]
  },
  {
   "cell_type": "code",
   "execution_count": 8,
   "metadata": {},
   "outputs": [
    {
     "ename": "NameError",
     "evalue": "name 'simulation' is not defined",
     "output_type": "error",
     "traceback": [
      "\u001b[0;31m---------------------------------------------------------------------------\u001b[0m",
      "\u001b[0;31mNameError\u001b[0m                                 Traceback (most recent call last)",
      "Cell \u001b[0;32mIn[8], line 1\u001b[0m\n\u001b[0;32m----> 1\u001b[0m indoor_model \u001b[38;5;241m=\u001b[39m simulation\u001b[38;5;241m.\u001b[39mMLPModel\u001b[38;5;241m.\u001b[39mload_from_checkpoint(\u001b[38;5;124m'\u001b[39m\u001b[38;5;124mlightning_logs/split.indoor/checkpoints/epoch=2499-step=277500.ckpt\u001b[39m\u001b[38;5;124m'\u001b[39m)\n\u001b[1;32m      3\u001b[0m indoor_model\u001b[38;5;241m.\u001b[39meval()\n\u001b[1;32m      4\u001b[0m \u001b[38;5;28;01mwith\u001b[39;00m torch\u001b[38;5;241m.\u001b[39mno_grad():    \n",
      "\u001b[0;31mNameError\u001b[0m: name 'simulation' is not defined"
     ]
    }
   ],
   "source": [
    "indoor_model = simulation.MLPModel.load_from_checkpoint('lightning_logs/split.indoor/checkpoints/epoch=2499-step=277500.ckpt')\n",
    "\n",
    "indoor_model.eval()\n",
    "with torch.no_grad():    \n",
    "    indoor_pred = indoor_model(preprocess.X_indoor.to(indoor_model.device)).cpu().squeeze()\n",
    "\n",
    "print(F.mse_loss(indoor_pred, preprocess.y_indoor))\n",
    "\n",
    "pd.DataFrame({\n",
    "    'sec_back_t': preprocess.y_indoor.flatten(),\n",
    "    'sec_back_t_pred': indoor_pred.flatten()\n",
    "}, index=train_data.index[1:]).plot(\n",
    "    figsize=(15, 4),\n",
    "    # xlim=('2022-1-1', '2022-1-2'),\n",
    "    ylim=(20, 40),\n",
    "    grid=True,\n",
    ")\n"
   ]
  }
 ],
 "metadata": {
  "kernelspec": {
   "display_name": "rl",
   "language": "python",
   "name": "python3"
  },
  "language_info": {
   "codemirror_mode": {
    "name": "ipython",
    "version": 3
   },
   "file_extension": ".py",
   "mimetype": "text/x-python",
   "name": "python",
   "nbconvert_exporter": "python",
   "pygments_lexer": "ipython3",
   "version": "3.11.5"
  }
 },
 "nbformat": 4,
 "nbformat_minor": 2
}
