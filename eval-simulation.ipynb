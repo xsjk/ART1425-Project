{
 "cells": [
  {
   "cell_type": "code",
   "execution_count": 4,
   "metadata": {},
   "outputs": [],
   "source": [
    "from dataset.data import train_data\n",
    "from dataset.preprocess_v2 import X_sec_back_t, y_sec_back_t\n",
    "from dataset.simulation_v2 import MLPModel\n",
    "import torch\n",
    "import torch.nn.functional as F\n",
    "import pandas as pd\n"
   ]
  },
  {
   "cell_type": "code",
   "execution_count": null,
   "metadata": {},
   "outputs": [],
   "source": [
    "sec_back_t_model = MLPModel.load_from_checkpoint('lightning_logs/split-back/checkpoints/epoch=3060-step=339771.ckpt')\n",
    "\n",
    "sec_back_t_model.eval()\n",
    "with torch.no_grad():    \n",
    "    sec_back_t_pred = sec_back_t_model(X_sec_back_t.to(sec_back_t_model.device)).cpu()\n",
    "\n",
    "print(F.mse_loss(sec_back_t_pred, y_sec_back_t) / len(y_sec_back_t))\n",
    "\n",
    "sec_back_t_pred = sec_back_t_pred.numpy()\n",
    "\n",
    "pd.DataFrame({\n",
    "    'sec_back_t': y_sec_back_t.flatten(),\n",
    "    'sec_back_t_pred': sec_back_t_pred.flatten()\n",
    "}, index=train_data.index).plot(\n",
    "    figsize=(15, 4),\n",
    "    xlim=('2022-1-1', '2022-1-2'),\n",
    "    ylim=(20, 40),\n",
    "    grid=True,\n",
    ")\n"
   ]
  }
 ],
 "metadata": {
  "kernelspec": {
   "display_name": "rl",
   "language": "python",
   "name": "python3"
  },
  "language_info": {
   "codemirror_mode": {
    "name": "ipython",
    "version": 3
   },
   "file_extension": ".py",
   "mimetype": "text/x-python",
   "name": "python",
   "nbconvert_exporter": "python",
   "pygments_lexer": "ipython3",
   "version": "3.11.7"
  }
 },
 "nbformat": 4,
 "nbformat_minor": 2
}
