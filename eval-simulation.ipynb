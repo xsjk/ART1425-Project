{
 "cells": [
  {
   "cell_type": "code",
   "execution_count": null,
   "metadata": {},
   "outputs": [],
   "source": [
    "from dataset.data import train_data\n",
    "import dataset.preprocess as preprocess\n",
    "import dataset.data as data\n",
    "import dataset.simulation as simulation\n",
    "import torch\n",
    "import torch.nn.functional as F\n",
    "import pandas as pd\n",
    "\n",
    "def plot(pred, gt, xlim=None, ylim=(20, 40)):\n",
    "    print(F.mse_loss(pred, gt))\n",
    "    pd.DataFrame({\n",
    "        'pred': pred,\n",
    "        'gt': gt\n",
    "    }, index = train_data.index[1:]) \\\n",
    "        .plot(\n",
    "            figsize=(15, 4),\n",
    "            xlim=xlim,\n",
    "            ylim=ylim,\n",
    "            grid=True\n",
    "        )\n"
   ]
  },
  {
   "cell_type": "markdown",
   "metadata": {},
   "source": [
    "# Split"
   ]
  },
  {
   "cell_type": "code",
   "execution_count": null,
   "metadata": {},
   "outputs": [],
   "source": [
    "sec_back_t_model = simulation.MLPModel.load_from_checkpoint('lightning_logs/split.sec_back_t/checkpoints/epoch=816-step=90687.ckpt')\n",
    "\n",
    "sec_back_t_model.eval()\n",
    "with torch.no_grad():    \n",
    "    sec_back_t_pred = sec_back_t_model(preprocess.X_sec_back_t.to(sec_back_t_model.device)).cpu().squeeze()\n",
    "\n",
    "plot(\n",
    "    sec_back_t_pred,\n",
    "    preprocess.y_sec_back_t,\n",
    "    # xlim=('2022-1-1', '2022-1-2'),\n",
    "    ylim=(32, 40)\n",
    ")\n"
   ]
  },
  {
   "cell_type": "code",
   "execution_count": null,
   "metadata": {},
   "outputs": [],
   "source": [
    "indoor_model = simulation.MLPModel.load_from_checkpoint('lightning_logs/split.indoor/checkpoints/epoch=814-step=90465.ckpt')\n",
    "\n",
    "indoor_model.eval()\n",
    "with torch.no_grad():    \n",
    "    indoor_pred = indoor_model(preprocess.X_indoor.to(indoor_model.device)).cpu().squeeze()\n",
    "\n",
    "plot(\n",
    "    indoor_pred,\n",
    "    preprocess.y_indoor,\n",
    "    # xlim=('2022-1-1', '2022-1-2'),\n",
    "    ylim=(20, 28)\n",
    ")\n"
   ]
  },
  {
   "cell_type": "markdown",
   "metadata": {},
   "source": [
    "# Branch"
   ]
  },
  {
   "cell_type": "code",
   "execution_count": null,
   "metadata": {},
   "outputs": [],
   "source": [
    "\n",
    "branch_model = simulation.BranchModel.load_from_checkpoint(\"lightning_logs/version_5/checkpoints/epoch=664-step=73815.ckpt\")\n",
    "\n",
    "branch_model.eval()\n",
    "with torch.no_grad():    \n",
    "    sec_back_t_pred, indoor_pred = branch_model(preprocess.X_branch.to(branch_model.device))\n",
    "    sec_back_t_pred, indoor_pred = indoor_pred.cpu().squeeze(), indoor_pred.cpu().squeeze()\n",
    "\n",
    "plot(\n",
    "    sec_back_t_pred,\n",
    "    preprocess.y_sec_back_t,\n",
    "    # xlim=('2022-1-1', '2022-1-2'),\n",
    "    ylim=(32, 40)\n",
    ")\n",
    "\n",
    "plot(\n",
    "    indoor_pred,\n",
    "    preprocess.y_indoor,\n",
    "    # xlim=('2022-1-1', '2022-1-2'),\n",
    "    ylim=(20, 28)\n",
    ")"
   ]
  },
  {
   "cell_type": "markdown",
   "metadata": {},
   "source": [
    "# Joint"
   ]
  },
  {
   "cell_type": "code",
   "execution_count": null,
   "metadata": {},
   "outputs": [],
   "source": [
    "\n",
    "joint_model = simulation.MLPModel.load_from_checkpoint(\"lightning_logs/joint/checkpoints/epoch=698-step=77589.ckpt\")\n",
    "\n",
    "joint_model.eval()\n",
    "with torch.no_grad():    \n",
    "    pred = joint_model(preprocess.X_branch.to(joint_model.device))\n",
    "    sec_back_t_pred, indoor_pred = pred.cpu().split(1, dim=1)\n",
    "\n",
    "sec_back_t_pred, indoor_pred = sec_back_t_pred.squeeze(), indoor_pred.squeeze()\n",
    "\n",
    "plot(\n",
    "    sec_back_t_pred,\n",
    "    preprocess.y_sec_back_t,\n",
    "    # xlim=('2022-1-1', '2022-1-2'),\n",
    "    ylim=(32, 40)\n",
    ")\n",
    "\n",
    "plot(\n",
    "    indoor_pred,\n",
    "    preprocess.y_indoor,\n",
    "    # xlim=('2022-1-1', '2022-1-2'),\n",
    "    ylim=(20, 28)\n",
    ")"
   ]
  }
 ],
 "metadata": {
  "kernelspec": {
   "display_name": "rl",
   "language": "python",
   "name": "python3"
  },
  "language_info": {
   "codemirror_mode": {
    "name": "ipython",
    "version": 3
   },
   "file_extension": ".py",
   "mimetype": "text/x-python",
   "name": "python",
   "nbconvert_exporter": "python",
   "pygments_lexer": "ipython3",
   "version": "3.11.5"
  }
 },
 "nbformat": 4,
 "nbformat_minor": 2
}
